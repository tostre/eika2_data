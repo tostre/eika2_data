{
 "cells": [
  {
   "cell_type": "code",
   "execution_count": null,
   "metadata": {},
   "outputs": [],
   "source": [
    "import pandas as pd\n",
    "import spacy\n",
    "import os\n",
    "# needed for stemming\n",
    "import nltk\n",
    "from nltk.stem.porter import *\n",
    "\n",
    "\n",
    "##\n",
    "## muss im ordner mit den lexika gestartet werden\n",
    "\n",
    "pd.options.mode.chained_assignment = None  # default='warn'\n",
    "nlp = spacy.load(\"en_core_web_lg\")\n",
    "stemmer = nltk.stem.SnowballStemmer('english')\n",
    "stems = []\n",
    "\n",
    "current_dir = os.path.dirname(os.path.abspath(__file__))\n",
    "list_of_datasets = os.listdir(current_dir)\n",
    "list_of_datasets.remove(\"clean_lexica.py\")\n",
    "list_of_datasets = [\"NRC-AffectIntensity-Lexicon.csv\"]\n",
    "\n",
    "print(\"datasets: \", list_of_datasets) \n",
    "\n",
    "for dataset_name in list_of_datasets: \n",
    "\tprint(\"reading\", dataset_name)\n",
    "\t#dataset = pd.read_csv(dataset_name, delimiter=\",\", dtype={\"text\": str, \"affect\": str, \"intensity\": float})\n",
    "\tdataset = pd.read_csv(dataset_name, delimiter=\"\\t\", dtype={\"text\": str, \"score\": float, \"AffectDimension\": str})\n",
    "\t\n",
    "\tstems.clear()\n",
    "\trow_index = 0\n",
    "\tposs = []\n",
    "\tposs_ = []\n",
    "\t\n",
    "\tprint(\"... appending\")\n",
    "\tfor index, row in dataset.iterrows():\n",
    "\t\tdoc = nlp(row[\"text\"])\n",
    "\t\tstems.append([stemmer.stem(token.text) for token in doc])\n",
    "\t\tpos.append(token.pos for token in doc)\n",
    "\t\tpos.append(token.pos_ for token in doc)\n",
    "\n",
    "\t\tif row_index % 10000 == 0 and row_index != 0:\n",
    "\t\t\t(\"... searching row \" + row_index.__str__() + \"/\" + len(dataset).__str__())\n",
    "\t\trow_index = row_index + 1\n",
    "\n",
    "\tdataset[\"stems\"] = stems\n",
    "\tdataset[\"pos\"] = poss\n",
    "\tdataset[\"pos_\"] = poss\n",
    "\t\n",
    "\n",
    "\tprint(\"... saving\\n\")\n",
    "\tdataset.to_csv(\"clean_\" + dataset_name, sep=\",\", index=False, float_format='%.3f')\n",
    "\n",
    "\t\n",
    "\n",
    "\n",
    "\t"
   ]
  }
 ],
 "metadata": {
  "kernelspec": {
   "display_name": "Python 3",
   "language": "python",
   "name": "python3"
  },
  "language_info": {
   "codemirror_mode": {
    "name": "ipython",
    "version": 3
   },
   "file_extension": ".py",
   "mimetype": "text/x-python",
   "name": "python",
   "nbconvert_exporter": "python",
   "pygments_lexer": "ipython3",
   "version": "3.6.8"
  }
 },
 "nbformat": 4,
 "nbformat_minor": 2
}
