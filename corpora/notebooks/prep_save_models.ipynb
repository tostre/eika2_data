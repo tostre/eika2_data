{
 "cells": [
  {
   "cell_type": "code",
   "execution_count": 23,
   "metadata": {},
   "outputs": [],
   "source": [
    "import gensim.models\n",
    "import gensim.corpora\n",
    "import gensim as gs\n",
    "import pyLDAvis as pvis\n",
    "import pyLDAvis.gensim\n",
    "import gensim.models.coherencemodel\n",
    "import matplotlib\n",
    "import numpy as np\n",
    "import pandas as pd\n",
    "import matplotlib.pyplot as plt\n",
    "from sklearn.linear_model import LogisticRegression\n",
    "from sklearn.model_selection import train_test_split\n",
    "from sklearn.metrics import confusion_matrix\n",
    "import seaborn as sn\n",
    "from sklearn.metrics import f1_score\n",
    "from gensim.models import FastText\n",
    "from sklearn.metrics import classification_report"
   ]
  },
  {
   "cell_type": "code",
   "execution_count": 37,
   "metadata": {},
   "outputs": [],
   "source": [
    "def save_models(dataset_name, num_topics):\n",
    "    print(\"loading topic data for\", dataset_name)\n",
    "    # load inputs and labels\n",
    "    dataset = pd.read_csv(\"../cleaned/\" + dataset_name + \"_stems.csv\").astype(str).values.tolist() \n",
    "    # remove placeholders from the stems dataset\n",
    "    print(\"removing placeholders\")\n",
    "    for index, sample in enumerate(dataset): \n",
    "            dataset[index] = list(filter((\" \").__ne__, sample))\n",
    "    # create dic, copora and lda-model\n",
    "    print(\"making dic\")\n",
    "    dic = gs.corpora.Dictionary(dataset)\n",
    "    #dic.save(\"../models/test/\" + dataset_name + \"_dictionary\")\n",
    "    print(\"making corpus\")\n",
    "    corpus = [dic.doc2bow(sample) for sample in dataset]\n",
    "    print(\"making lda\")\n",
    "    #lda_model = gensim.models.ldamulticore.LdaMulticore(corpus=corpus, id2word=dic, num_topics=num_topics, random_state=100, chunksize=100, passes=10, per_word_topics=True)#update_every=1, \n",
    "    #lda_model.save(\"../models/test/\" + dataset_name + \"_ldamodel\")\n",
    "    print(\"making fasttext\")\n",
    "    inputs = [\" \".join(sentence) for sentence in dataset]\n",
    "    vector_model = FastText(size=32, window=3, min_count=1)\n",
    "    vector_model.build_vocab(inputs)  \n",
    "    vector_model.train(sentences=inputs, total_examples=len(inputs), total_words=vector_model.corpus_total_words, epochs=10)\n",
    "    vector_model.save(\"../models/test/\" + dataset_name + \"_fasttext\")\n",
    "    \n",
    "def load_test(dataset_name, num_topics):\n",
    "    print(\"loading dic\")\n",
    "    #dic = gs.corpora.Dictionary.load(\"../models/dictionary/\" + dataset_name + \"_dictionary\")\n",
    "    print(\"loading topic model\")\n",
    "    lda_model = gensim.models.ldamulticore.LdaMulticore.load(\"../models/topic_models/\" + dataset_name + \"_ldamodel\")\n",
    "    topics = lda_model.show_topics(num_topics = num_topics)\n",
    "    print(len(topics))\n",
    "    print(topics)\n",
    "    print(\"loading fasttext\")\n",
    "    #vector_model = FastText.load(\"../models/word_embeddings/\" + dataset_name + \"_fasttext\")\n",
    "    \n",
    "    "
   ]
  },
  {
   "cell_type": "code",
   "execution_count": 40,
   "metadata": {},
   "outputs": [
    {
     "name": "stdout",
     "output_type": "stream",
     "text": [
      "loading dic\n",
      "loading topic model\n",
      "79\n",
      "[(0, '0.284*\"u\" + 0.145*\"na\" + 0.129*\"gon\" + 0.087*\"littl\" + 0.036*\"manag\" + 0.035*\"power\" + 0.026*\"mouth\" + 0.023*\"outta\" + 0.021*\"deep\" + 0.007*\"deserv\"'), (1, '0.293*\"god\" + 0.066*\"tv\" + 0.055*\"un\" + 0.047*\"forev\" + 0.031*\"holiday\" + 0.029*\"usual\" + 0.027*\"arm\" + 0.027*\"coupl\" + 0.024*\"shitti\" + 0.020*\"cloud\"'), (2, '0.132*\"e\" + 0.113*\"ai\" + 0.083*\"tire\" + 0.081*\"r\" + 0.056*\"understand\" + 0.055*\"ya\" + 0.044*\"\\'\" + 0.044*\"liter\" + 0.036*\"forget\" + 0.029*\"jus\"'), (3, '0.264*\"play\" + 0.140*\"eat\" + 0.080*\"probabl\" + 0.051*\"mark\" + 0.046*\"weird\" + 0.031*\"chick\" + 0.028*\"player\" + 0.020*\"min\" + 0.012*\"egg\" + 0.011*\"fart\"'), (4, '0.267*\"tomorrow\" + 0.108*\"control\" + 0.082*\"take\" + 0.072*\"respect\" + 0.042*\"beat\" + 0.026*\"9\" + 0.024*\"danger\" + 0.019*\"qualiti\" + 0.019*\"dumb\" + 0.017*\"glass\"'), (5, '0.181*\"night\" + 0.143*\"miss\" + 0.099*\"run\" + 0.067*\"head\" + 0.050*\"listen\" + 0.048*\"late\" + 0.045*\"dream\" + 0.032*\"coffe\" + 0.026*\"like\" + 0.018*\"andand\"'), (6, '0.108*\"till\" + 0.091*\"smile\" + 0.070*\"terror\" + 0.049*\"fake\" + 0.043*\"balanc\" + 0.042*\"laugh\" + 0.042*\"even\" + 0.040*\"secret\" + 0.026*\"draw\" + 0.024*\"won\"'), (7, '0.256*\"phone\" + 0.087*\"rain\" + 0.053*\"pour\" + 0.030*\"️\" + 0.029*\"easi\" + 0.028*\"wide\" + 0.017*\"polici\" + 0.013*\"attitud\" + 0.013*\"hearti\" + 0.013*\"❤\"'), (8, '0.342*\"day\" + 0.217*\"work\" + 0.074*\"girl\" + 0.063*\"o\" + 0.062*\"kill\" + 0.040*\"hard\" + 0.019*\"7\" + 0.007*\"toilet\" + 0.006*\"wet\" + 0.006*\"fault\"'), (9, '0.166*\"money\" + 0.094*\"dog\" + 0.084*\"pay\" + 0.062*\"stomach\" + 0.043*\"snap\" + 0.027*\"pic\" + 0.024*\"function\" + 0.020*\"compani\" + 0.015*\"sue\" + 0.014*\"unbeliev\"'), (10, '0.151*\"bad\" + 0.100*\"break\" + 0.084*\"black\" + 0.069*\"shop\" + 0.060*\"news\" + 0.058*\"read\" + 0.057*\"fight\" + 0.041*\"drink\" + 0.037*\"courag\" + 0.032*\"project\"'), (11, '0.327*\"today\" + 0.127*\"wanna\" + 0.044*\"confid\" + 0.036*\"white\" + 0.033*\"episod\" + 0.032*\"save\" + 0.031*\"came\" + 0.025*\"hot\" + 0.025*\"sober\" + 0.023*\"😂\"'), (12, '0.258*\"school\" + 0.090*\"finish\" + 0.079*\"fan\" + 0.057*\"yo\" + 0.041*\"faster\" + 0.030*\"shame\" + 0.026*\"john\" + 0.018*\"wild\" + 0.013*\"harder\" + 0.009*\"utter\"'), (13, '0.317*\"peopl\" + 0.131*\"get\" + 0.094*\"man\" + 0.074*\"real\" + 0.056*\"fall\" + 0.032*\"call\" + 0.024*\"meet\" + 0.024*\"like\" + 0.023*\"goe\" + 0.020*\"instead\"'), (14, '0.092*\"spend\" + 0.079*\"half\" + 0.068*\"expect\" + 0.063*\"5\" + 0.046*\"water\" + 0.043*\"serious\" + 0.040*\"stori\" + 0.039*\"throw\" + 0.037*\"like\" + 0.037*\"shut\"'), (15, '0.144*\"hous\" + 0.091*\"stay\" + 0.069*\"insid\" + 0.063*\"see\" + 0.045*\"land\" + 0.044*\"build\" + 0.044*\"dead\" + 0.038*\"air\" + 0.022*\"pray\" + 0.019*\"basic\"'), (16, '0.301*\"fuck\" + 0.133*\"stop\" + 0.131*\"tri\" + 0.052*\"song\" + 0.050*\"high\" + 0.032*\"speak\" + 0.024*\"yes\" + 0.020*\"pick\" + 0.020*\"regret\" + 0.019*\"heard\"'), (17, '0.420*\"time\" + 0.130*\"new\" + 0.066*\"hurt\" + 0.057*\"singl\" + 0.050*\"minut\" + 0.029*\"win\" + 0.017*\"sign\" + 0.015*\"disgust\" + 0.009*\"ridicul\" + 0.009*\"proverb\"'), (18, '0.153*\"3\" + 0.116*\"d\" + 0.106*\"damn\" + 0.053*\"ugh\" + 0.052*\"stuff\" + 0.031*\"v\" + 0.031*\"surpris\" + 0.028*\"30\" + 0.028*\"ve\" + 0.020*\"view\"'), (19, '0.201*\"face\" + 0.116*\"word\" + 0.066*\"self\" + 0.056*\"lo\" + 0.046*\"show\" + 0.038*\"wit\" + 0.023*\"beef\" + 0.023*\"ring\" + 0.022*\"king\" + 0.021*\"hole\"'), (20, '0.302*\"look\" + 0.213*\"home\" + 0.066*\"realiz\" + 0.049*\"use\" + 0.046*\"like\" + 0.041*\"mother\" + 0.028*\"countri\" + 0.026*\"deal\" + 0.012*\"crash\" + 0.008*\"etern\"'), (21, '0.136*\"la\" + 0.123*\"sad\" + 0.098*\"movi\" + 0.080*\"bring\" + 0.062*\"paul\" + 0.045*\"grow\" + 0.041*\"park\" + 0.034*\"return\" + 0.024*\"exact\" + 0.021*\"crap\"'), (22, '0.178*\"emot\" + 0.082*\"found\" + 0.064*\"soon\" + 0.047*\"small\" + 0.045*\"footbal\" + 0.042*\"ladi\" + 0.031*\"wow\" + 0.030*\"match\" + 0.027*\"tabl\" + 0.025*\"father\"'), (23, '0.120*\"cri\" + 0.081*\"tear\" + 0.075*\"set\" + 0.048*\"blood\" + 0.045*\"swear\" + 0.040*\"success\" + 0.038*\"cat\" + 0.034*\"matter\" + 0.032*\"felt\" + 0.023*\"starbuck\"'), (24, '0.116*\"place\" + 0.077*\"free\" + 0.073*\"allow\" + 0.073*\"drop\" + 0.058*\"birthday\" + 0.057*\"jesus\" + 0.042*\"rejoic\" + 0.032*\"mon\" + 0.031*\"offend\" + 0.026*\"schedul\"'), (25, '0.261*\"watch\" + 0.128*\"long\" + 0.119*\"leav\" + 0.101*\"lose\" + 0.058*\"readi\" + 0.045*\"wonder\" + 0.033*\"took\" + 0.026*\"bodi\" + 0.019*\"unit\" + 0.005*\"collaps\"'), (26, '0.417*\"know\" + 0.118*\"guy\" + 0.074*\"sure\" + 0.064*\"complet\" + 0.035*\"pictur\" + 0.026*\"chanc\" + 0.019*\"normal\" + 0.011*\"simpli\" + 0.010*\"pure\" + 0.007*\"camp\"'), (27, '0.510*\"fear\" + 0.049*\"outsid\" + 0.041*\"parent\" + 0.040*\"kind\" + 0.028*\"ago\" + 0.024*\"truth\" + 0.014*\"church\" + 0.013*\"app\" + 0.013*\"proud\" + 0.012*\"delet\"'), (28, '0.182*\"final\" + 0.159*\"away\" + 0.076*\"omg\" + 0.070*\"decid\" + 0.066*\"problem\" + 0.032*\"internet\" + 0.022*\"grade\" + 0.016*\"govern\" + 0.014*\"bigger\" + 0.011*\"china\"'), (29, '0.171*\"find\" + 0.142*\"game\" + 0.116*\"have\" + 0.100*\"lost\" + 0.040*\"met\" + 0.027*\"dress\" + 0.024*\"reveng\" + 0.021*\"destroy\" + 0.020*\"perfect\" + 0.017*\"complain\"'), (30, '0.156*\"sleep\" + 0.122*\"world\" + 0.122*\"twitter\" + 0.105*\"believ\" + 0.047*\"earli\" + 0.044*\"exam\" + 0.032*\"em\" + 0.022*\"comfort\" + 0.020*\"product\" + 0.015*\"passion\"'), (31, '0.094*\"joy\" + 0.091*\"lord\" + 0.050*\"sun\" + 0.050*\"push\" + 0.036*\"express\" + 0.035*\"shine\" + 0.031*\"kinda\" + 0.029*\"scienc\" + 0.024*\"kiss\" + 0.022*\"convers\"'), (32, '0.472*\"go\" + 0.037*\"gym\" + 0.029*\"album\" + 0.023*\"stuck\" + 0.021*\"quick\" + 0.014*\"attend\" + 0.013*\"net\" + 0.012*\"michael\" + 0.011*\"mate\" + 0.009*\"nah\"'), (33, '0.217*\"way\" + 0.087*\"protect\" + 0.071*\"worst\" + 0.049*\"pretti\" + 0.043*\"broke\" + 0.029*\"hang\" + 0.022*\"comment\" + 0.021*\"plus\" + 0.019*\"drunk\" + 0.019*\"b4\"'), (34, '0.114*\"dark\" + 0.092*\"stand\" + 0.075*\"type\" + 0.054*\"video\" + 0.050*\"mood\" + 0.048*\"public\" + 0.037*\"onlin\" + 0.036*\"le\" + 0.018*\"interest\" + 0.016*\"moon\"'), (35, '0.206*\"walk\" + 0.091*\"crazi\" + 0.068*\"ruin\" + 0.061*\"everyday\" + 0.053*\"past\" + 0.047*\"suffer\" + 0.033*\"super\" + 0.027*\"like\" + 0.021*\"constant\" + 0.017*\"gas\"'), (36, '0.155*\"turn\" + 0.089*\"said\" + 0.069*\"pop\" + 0.044*\"teacher\" + 0.040*\"middl\" + 0.040*\"broken\" + 0.037*\"record\" + 0.019*\"sentenc\" + 0.019*\"25\" + 0.016*\"program\"'), (37, '0.067*\"suck\" + 0.058*\"rage\" + 0.057*\">\" + 0.050*\"+\" + 0.047*\"faith\" + 0.043*\"weak\" + 0.033*\"relat\" + 0.032*\"bitter\" + 0.030*\"20\" + 0.030*\"appl\"'), (38, '0.317*\"think\" + 0.184*\"right\" + 0.058*\"-\" + 0.055*\"c\" + 0.046*\"told\" + 0.035*\"b\" + 0.031*\"child\" + 0.015*\"shoot\" + 0.012*\"mac\" + 0.012*\"total\"'), (39, '0.147*\"happen\" + 0.055*\"plan\" + 0.051*\"men\" + 0.050*\"relationship\" + 0.038*\"state\" + 0.032*\"scream\" + 0.026*\"attempt\" + 0.018*\"loss\" + 0.018*\"cost\" + 0.018*\"slight\"'), (40, '0.324*\"hate\" + 0.097*\"hold\" + 0.086*\"bed\" + 0.057*\"hit\" + 0.042*\"like\" + 0.031*\"voic\" + 0.029*\"annoy\" + 0.020*\"cup\" + 0.020*\"roll\" + 0.019*\"lay\"'), (41, '0.346*\"let\" + 0.104*\"thought\" + 0.058*\"worri\" + 0.045*\"weather\" + 0.034*\"stress\" + 0.033*\":)\" + 0.030*\"star\" + 0.024*\"letter\" + 0.020*\"mr\" + 0.016*\"gay\"'), (42, '0.221*\"caus\" + 0.186*\"oh\" + 0.150*\"beauti\" + 0.080*\"dear\" + 0.013*\"fearless\" + 0.003*\"⚽\" + 0.001*\"flawsi\\'m\" + 0.001*\"weaki\\'m\" + 0.001*\"afraidi\" + 0.000*\"love\"'), (43, '0.167*\"talk\" + 0.155*\"hour\" + 0.095*\"class\" + 0.054*\"homework\" + 0.051*\"depress\" + 0.050*\"month\" + 0.046*\"went\" + 0.039*\"anxieti\" + 0.031*\"situat\" + 0.026*\"fuckin\"'), (44, '0.346*\"thing\" + 0.094*\"s\" + 0.075*\"y\" + 0.045*\"care\" + 0.042*\"ok\" + 0.038*\"attack\" + 0.035*\"gone\" + 0.025*\"panic\" + 0.019*\"releas\" + 0.013*\"like\"'), (45, '0.148*\"end\" + 0.078*\"old\" + 0.065*\".\" + 0.058*\"rest\" + 0.058*\"give\" + 0.056*\"book\" + 0.051*\"yesterday\" + 0.041*\"includ\" + 0.036*\"son\" + 0.026*\"greatest\"'), (46, '0.121*\"idea\" + 0.100*\"amaz\" + 0.062*\"saw\" + 0.060*\"pain\" + 0.044*\"sorri\" + 0.034*\"troubl\" + 0.034*\"question\" + 0.026*\"student\" + 0.026*\"somebodi\" + 0.024*\"soul\"'), (47, '0.073*\"weekend\" + 0.071*\"flower\" + 0.069*\"fun\" + 0.064*\"nice\" + 0.057*\"post\" + 0.045*\"mess\" + 0.037*\"move\" + 0.034*\"replac\" + 0.029*\"sum\" + 0.026*\"blue\"'), (48, '0.218*\"year\" + 0.090*\"1\" + 0.065*\"chang\" + 0.064*\"kid\" + 0.043*\"wrong\" + 0.036*\"death\" + 0.034*\"nigga\" + 0.032*\"sister\" + 0.028*\"war\" + 0.024*\"old\"'), (49, '0.209*\"nt\" + 0.156*\"2\" + 0.085*\"/\" + 0.083*\"mind\" + 0.057*\"car\" + 0.054*\"ppl\" + 0.042*\"light\" + 0.024*\"rule\" + 0.020*\"okay\" + 0.017*\"seen\"'), (50, '0.210*\"good\" + 0.160*\"live\" + 0.046*\"begin\" + 0.043*\"cut\" + 0.042*\"smh\" + 0.041*\"put\" + 0.041*\"trust\" + 0.039*\"boy\" + 0.037*\"pass\" + 0.020*\"peac\"'), (51, '0.290*\"m\" + 0.143*\"person\" + 0.105*\"great\" + 0.074*\"wake\" + 0.048*\"dread\" + 0.040*\"cheer\" + 0.026*\"cool\" + 0.020*\"like\" + 0.018*\"enemi\" + 0.014*\"idk\"'), (52, '0.350*\"love\" + 0.127*\"shit\" + 0.075*\"mad\" + 0.074*\"help\" + 0.034*\"learn\" + 0.021*\"gave\" + 0.021*\"physic\" + 0.018*\"realiti\" + 0.014*\"sudden\" + 0.012*\"jump\"'), (53, '0.133*\"lot\" + 0.122*\"bitch\" + 0.100*\"ass\" + 0.063*\"practic\" + 0.055*\"check\" + 0.055*\"abl\" + 0.044*\"honest\" + 0.044*\"favorit\" + 0.024*\"lmao\" + 0.022*\"posit\"'), (54, '0.246*\"scare\" + 0.098*\"wo\" + 0.074*\"open\" + 0.072*\"bottl\" + 0.072*\"big\" + 0.051*\"bus\" + 0.048*\"ask\" + 0.044*\"sound\" + 0.033*\"burn\" + 0.021*\"store\"'), (55, '0.152*\"friend\" + 0.120*\"famili\" + 0.092*\"heart\" + 0.079*\"hear\" + 0.060*\"actual\" + 0.039*\"dad\" + 0.036*\"woman\" + 0.031*\"laptop\" + 0.027*\"fat\" + 0.025*\"calm\"'), (56, '0.178*\"die\" + 0.101*\"10\" + 0.058*\"8\" + 0.039*\"email\" + 0.039*\"bless\" + 0.034*\"fli\" + 0.031*\"near\" + 0.029*\"card\" + 0.027*\"account\" + 0.025*\"catch\"'), (57, '0.211*\"start\" + 0.189*\"week\" + 0.060*\"$\" + 0.041*\"buy\" + 0.037*\"strong\" + 0.036*\"differ\" + 0.032*\"fact\" + 0.027*\"forgot\" + 0.025*\"sell\" + 0.024*\"ill\"'), (58, '0.085*\"test\" + 0.081*\"write\" + 0.075*\"fire\" + 0.050*\"sing\" + 0.049*\"fail\" + 0.035*\"essay\" + 0.030*\"especi\" + 0.030*\"horribl\" + 0.027*\"attent\" + 0.026*\"rat\"'), (59, '0.149*\"accept\" + 0.096*\"spider\" + 0.072*\"ride\" + 0.051*\"vent\" + 0.043*\"challeng\" + 0.042*\"exhilar\" + 0.024*\"victori\" + 0.016*\"unexpect\" + 0.002*\"tapingday2\" + 0.002*\"tomiho\"'), (60, '0.146*\"eye\" + 0.073*\"<\" + 0.068*\"present\" + 0.052*\"touch\" + 0.048*\"joke\" + 0.047*\"anim\" + 0.042*\"funni\" + 0.037*\"imagin\" + 0.021*\"fix\" + 0.020*\"determin\"'), (61, '0.264*\"got\" + 0.102*\"happi\" + 0.075*\"mean\" + 0.065*\"ta\" + 0.053*\"guess\" + 0.033*\"_\" + 0.025*\"like\" + 0.024*\"nap\" + 0.020*\"order\" + 0.017*\"wtf\"'), (62, '0.173*\"morn\" + 0.048*\"second\" + 0.045*\"job\" + 0.037*\"spent\" + 0.032*\"bc\" + 0.030*\"concert\" + 0.029*\"cours\" + 0.028*\"band\" + 0.027*\"monday\" + 0.025*\"googl\"'), (63, '0.160*\"tonight\" + 0.095*\"say\" + 0.082*\"thank\" + 0.059*\"seed\" + 0.048*\"season\" + 0.044*\"text\" + 0.040*\"ignor\" + 0.031*\"fill\" + 0.030*\"exist\" + 0.028*\"support\"'), (64, '0.140*\"drive\" + 0.110*\"lol\" + 0.109*\"tweet\" + 0.069*\"hand\" + 0.051*\"red\" + 0.043*\"team\" + 0.029*\"note\" + 0.022*\"driver\" + 0.022*\"x\" + 0.020*\"shall\"'), (65, '0.163*\"factor\" + 0.097*\"stupid\" + 0.065*\"aw\" + 0.062*\"busi\" + 0.047*\"bit\" + 0.037*\"suppos\" + 0.034*\"yeah\" + 0.029*\"cook\" + 0.025*\"age\" + 0.022*\"tast\"'), (66, '0.091*\"avoid\" + 0.083*\"appear\" + 0.062*\"tree\" + 0.059*\"human\" + 0.054*\"danc\" + 0.043*\"freak\" + 0.035*\"awesom\" + 0.028*\"longer\" + 0.023*\"worth\" + 0.021*\"boss\"'), (67, '0.339*\"need\" + 0.149*\"left\" + 0.060*\"✨\" + 0.042*\"appar\" + 0.041*\"doctor\" + 0.023*\"handl\" + 0.016*\"rich\" + 0.010*\"3rd\" + 0.008*\"period\" + 0.004*\"path\"'), (68, '0.138*\"rememb\" + 0.114*\"lie\" + 0.078*\"futur\" + 0.057*\"share\" + 0.047*\"anymor\" + 0.035*\"fantast\" + 0.032*\"shower\" + 0.025*\"direct\" + 0.023*\"societi\" + 0.023*\"upset\"'), (69, '0.153*\"anger\" + 0.118*\"ur\" + 0.078*\"cuz\" + 0.048*\"colleg\" + 0.037*\"answer\" + 0.031*\"ex\" + 0.031*\"later\" + 0.028*\"tho\" + 0.025*\"christ\" + 0.022*\"nail\"'), (70, '0.186*\"christma\" + 0.089*\"room\" + 0.084*\"music\" + 0.083*\"hair\" + 0.049*\"biggest\" + 0.045*\"point\" + 0.039*\"keep\" + 0.032*\"spirit\" + 0.024*\"winter\" + 0.022*\"rush\"'), (71, '0.162*\"wish\" + 0.143*\"moment\" + 0.126*\"n\" + 0.073*\"better\" + 0.049*\"wear\" + 0.039*\"citi\" + 0.027*\"speech\" + 0.025*\"art\" + 0.024*\"dude\" + 0.021*\"protest\"'), (72, '0.088*\"mayb\" + 0.084*\"door\" + 0.043*\"sale\" + 0.038*\"loud\" + 0.034*\"level\" + 0.034*\"sink\" + 0.028*\"apart\" + 0.028*\"nope\" + 0.021*\"brain\" + 0.019*\"rojo\"'), (73, '0.342*\"life\" + 0.057*\"sick\" + 0.057*\"piss\" + 0.054*\"enjoy\" + 0.054*\"women\" + 0.043*\"😭\" + 0.032*\"tht\" + 0.031*\"clear\" + 0.023*\"system\" + 0.021*\"dick\"'), (74, '0.342*\"want\" + 0.080*\"mom\" + 0.070*\"reason\" + 0.067*\"sit\" + 0.062*\"follow\" + 0.049*\"babi\" + 0.029*\"like\" + 0.020*\"group\" + 0.015*\"ice\" + 0.014*\"bag\"'), (75, '0.270*\"come\" + 0.138*\"wait\" + 0.115*\"tell\" + 0.050*\"brother\" + 0.038*\"close\" + 0.032*\"sunday\" + 0.031*\"offic\" + 0.030*\"proper\" + 0.023*\"hide\" + 0.022*\"celebr\"'), (76, '0.138*\"angri\" + 0.074*\"experi\" + 0.064*\"true\" + 0.062*\"=\" + 0.059*\"act\" + 0.059*\"12\" + 0.041*\"pull\" + 0.035*\"cover\" + 0.031*\"certain\" + 0.030*\"lead\"'), (77, '0.241*\"make\" + 0.101*\"best\" + 0.075*\"cold\" + 0.062*\"line\" + 0.059*\"nervous\" + 0.057*\"excit\" + 0.036*\"kick\" + 0.026*\"sky\" + 0.021*\"terrifi\" + 0.019*\"creep\"'), (78, '0.350*\"feel\" + 0.143*\"like\" + 0.080*\"hope\" + 0.031*\"absolut\" + 0.030*\"asleep\" + 0.026*\"6\" + 0.024*\"iphon\" + 0.024*\"wors\" + 0.022*\"dinner\" + 0.021*\"piec\"')]\n",
      "loading fasttext\n"
     ]
    }
   ],
   "source": [
    "num_topics_dict = {\n",
    "    \"norm_tweet\": 79,\n",
    "    \"norm_emotion\": 186,\n",
    "}\n",
    "\n",
    "dataset_name = \"norm_tweet\"\n",
    "#save_models(dataset_name, num_topics_dict[dataset_name])\n",
    "\n",
    "load_test(dataset_name, num_topics_dict[dataset_name] + 10)"
   ]
  },
  {
   "cell_type": "code",
   "execution_count": null,
   "metadata": {},
   "outputs": [],
   "source": []
  }
 ],
 "metadata": {
  "kernelspec": {
   "display_name": "Python 3",
   "language": "python",
   "name": "python3"
  },
  "language_info": {
   "codemirror_mode": {
    "name": "ipython",
    "version": 3
   },
   "file_extension": ".py",
   "mimetype": "text/x-python",
   "name": "python",
   "nbconvert_exporter": "python",
   "pygments_lexer": "ipython3",
   "version": "3.6.8"
  }
 },
 "nbformat": 4,
 "nbformat_minor": 2
}
