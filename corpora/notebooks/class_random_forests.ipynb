{
 "cells": [
  {
   "cell_type": "code",
   "execution_count": 22,
   "metadata": {},
   "outputs": [],
   "source": [
    "# https://www.youtube.com/watch?v=ok2s1vV9XW0\n",
    "import warnings\n",
    "warnings.filterwarnings('ignore')\n",
    "import matplotlib\n",
    "import numpy as np\n",
    "import pandas as pd\n",
    "import matplotlib.pyplot as plt\n",
    "from sklearn.linear_model import LogisticRegression\n",
    "from sklearn.model_selection import train_test_split\n",
    "from sklearn.metrics import confusion_matrix\n",
    "import seaborn as sn\n",
    "from sklearn import tree\n",
    "from sklearn.ensemble import RandomForestClassifier\n",
    "from sklearn.metrics import f1_score\n",
    "from gensim.models import FastText\n",
    "import pprint"
   ]
  },
  {
   "cell_type": "code",
   "execution_count": 33,
   "metadata": {},
   "outputs": [],
   "source": [
    "def load_lex_data(dataset_name, feature_set):\n",
    "    print(\"loading lex data for\", dataset_name)\n",
    "    dataset = pd.read_csv(\"../cleaned/\" + dataset_name + \"_clean.csv\")\n",
    "    \n",
    "    targets = dataset[\"a\"]\n",
    "    inputs = dataset[feature_set]\n",
    "    train_x, test_x, train_y, test_y = train_test_split(inputs, targets, test_size=0.2)\n",
    "    return train_x, test_x, train_y, test_y    \n",
    "\n",
    "def load_vector_data(dataset_name):\n",
    "    print(\"loading vector data for\", dataset_name)\n",
    "    sentences = pd.read_csv(\"../cleaned/\" + dataset_name + \"_stems.csv\", delimiter=\",\").astype(str).values.tolist()\n",
    "    targets = pd.read_csv(\"../cleaned/\" + dataset_name + \"_clean.csv\", delimiter=\",\").astype(str)[\"a\"].tolist() \n",
    "    \n",
    "    # replace placeholders (\" \"), make one-string-sentences\n",
    "    print(\"... replacing placeholders\")\n",
    "    for index, sample in enumerate(sentences): \n",
    "            sentences[index] = list(filter((\" \").__ne__, sample))\n",
    "    inputs = [\" \".join(sentence) for sentence in sentences]\n",
    "    \n",
    "    # build model over sentences (size=dimension of word vectors), convert sentences to vectors\n",
    "    vector_model = FastText(size=32, window=3, min_count=1)\n",
    "    vector_model.build_vocab(inputs)  \n",
    "    vector_model.train(sentences=inputs, total_examples=len(inputs), total_words=vector_model.corpus_total_words, epochs=10)\n",
    "    inputs = [vector_model.wv[sample] for sample in inputs]\n",
    "    \n",
    "    # split data and return\n",
    "    train_x, test_x, train_y, test_y = train_test_split(inputs, targets, test_size=0.2)\n",
    "    return train_x, test_x, train_y, test_y    \n",
    "\n",
    "def classify_with_rf(train_x, test_x, train_y, test_y, num_trees): \n",
    "    print(\"building rf model\")\n",
    "    rf = RandomForestClassifier(n_estimators=num_trees)\n",
    "    print(\"... training model\")\n",
    "    rf.fit(train_x, train_y)\n",
    "    print(\"... calcularing score\")\n",
    "    pred_y = rf.predict(test_x)\n",
    "    # model metadata\n",
    "    score, f1_scoore = rf.score(train_x, train_y), f1_score(test_y, pred_y, average=\"weighted\")\n",
    "    return (test_y, pred_y, score, f1_scoore, num_trees), rf.feature_importances_ \n",
    "\n",
    "def get_best_tree_num(dataset_name, feature_set, feature_set_name, max_trees, vec=False):\n",
    "    indexes, f1 = [], []\n",
    "    if vec:\n",
    "        data = load_vector_data(dataset_name)\n",
    "    else:        \n",
    "        data = load_lex_data(dataset_name, features[\"lex\"])\n",
    "    \n",
    "    for i in range(1,max_trees):\n",
    "        print(i)\n",
    "        results, importance = classify_with_rf(*data, i)\n",
    "        f1.append(results[3])\n",
    "        indexes.append(i)\n",
    "\n",
    "    draw_plot(dataset_name, feature_set_name, indexes, f1, max(f1), f1.index(max(f1))+1)\n",
    "    \n",
    "def draw_confusion_matrix(dataset_name, feature_set_name, test_y, pred_y, score, f1_scoore, num_trees): \n",
    "    fig = plt.figure()\n",
    "    hm = sn.heatmap(confusion_matrix(test_y, pred_y), fmt=\"d\", linewidth=0.5, annot=True, square=True, xticklabels=[\"h\", \"s\", \"a\", \"f\"], yticklabels=[\"h\", \"s\", \"a\", \"f\"], cmap=\"PuRd\")\n",
    "    ax1 = fig.add_axes(hm)\n",
    "    ax1.set(xlabel=\"predicted\", ylabel=\"target\")\n",
    "    desc = \"dataset: {} ({}), trained over {} trees\\nscore: {}, f1_score: {}\".format(dataset_name, feature_set_name, num_trees, score, f1_scoore)\n",
    "    fig.text(0.5, -0.1, desc, ha='center')\n",
    "    plt.show()\n",
    "    print(\"saving\", \"cm_rf_\" + dataset_name + \"_\" + feature_set_name + \".png\")\n",
    "    fig.savefig(\"../img/cm_rf_\" + dataset_name + \"_\" + feature_set_name + \".png\", bbox_inches=\"tight\")\n",
    "    \n",
    "def draw_plot(dataset_name, feature_set_name, x, y, best_f1, best_index):\n",
    "    fig, ax = plt.subplots()\n",
    "    ax.plot(x, y)\n",
    "    ax.set(xlabel=\"num_trees\", ylabel=\"f1_score\")\n",
    "    desc = \"dataset: {} ({})\\nbest f1_score: {}, with num_trees: {}\".format(dataset_name, feature_set_name, best_f1, best_index)\n",
    "    fig.text(0.5, -0.07, desc, ha='center')\n",
    "    plt.show()\n",
    "    fig.savefig(\"../img/num_trees_\" + dataset + \"_\" + feature_set_name + \".png\", bbox_inches=\"tight\")    "
   ]
  },
  {
   "cell_type": "code",
   "execution_count": null,
   "metadata": {},
   "outputs": [],
   "source": []
  },
  {
   "cell_type": "code",
   "execution_count": 42,
   "metadata": {},
   "outputs": [],
   "source": [
    "datasets = [\"emotion\", \"norm_emotion\", \"tweet\", \"norm_tweet\"]\n",
    "features = {\n",
    "    \"full\": [\"wc\", \"uwc\", \"ewc\", \"cpc\", \"hc\", \"sc\", \"ac\", \"fc\"],\n",
    "    \"nolex\": [\"wc\", \"uwc\", \"ewc\", \"cpc\"],\n",
    "    \"lex\": [\"hc\", \"sc\", \"ac\", \"fc\"]\n",
    "}\n",
    "trees_for_dataset = {\n",
    "    \"emotion_full\": 100,\n",
    "    \"emotion_nolex\": 12,\n",
    "    \"emotion_lex\": 18,\n",
    "    \"emotion_vec\": 1, \n",
    "    \"norm_emotion_full\": 18,\n",
    "    \"norm_emotion_nolex\": 33,\n",
    "    \"norm_emotion_lex\": 28, \n",
    "    \"norm_emotion_vec\": 198,\n",
    "    \"tweet_full\": 5,\n",
    "    \"tweet_nolex\": 14, \n",
    "    \"tweet_lex\": 33,\n",
    "    \"tweet_vec\": 1,\n",
    "    \"norm_tweet_full\": 21,\n",
    "    \"norm_tweet_nolex\": 12,\n",
    "    \"norm_tweet_lex\": 10,\n",
    "    \"norm_tweet_vec\": 150\n",
    "}"
   ]
  },
  {
   "cell_type": "code",
   "execution_count": 43,
   "metadata": {},
   "outputs": [],
   "source": [
    "#for dataset in [\"norm_emotion\"]: \n",
    "#    for key, feature_set in features.items(): \n",
    "#        print(dataset, key)\n",
    "#        get_best_tree_num(dataset, feature_set, key, 200, True)"
   ]
  },
  {
   "cell_type": "code",
   "execution_count": 45,
   "metadata": {},
   "outputs": [
    {
     "name": "stdout",
     "output_type": "stream",
     "text": [
      "loading vector data for norm_tweet\n",
      "... replacing placeholders\n",
      "building rf model\n",
      "... training model\n",
      "... calcularing score\n",
      "loading vector data for norm_emotion\n",
      "... replacing placeholders\n",
      "building rf model\n",
      "... training model\n",
      "... calcularing score\n"
     ]
    },
    {
     "data": {
      "image/png": "[encoded data removed]",
      "text/plain": [
       "<Figure size 432x288 with 2 Axes>"
      ]
     },
     "metadata": {
      "needs_background": "light"
     },
     "output_type": "display_data"
    },
    {
     "name": "stdout",
     "output_type": "stream",
     "text": [
      "saving cm_rf_norm_tweet_vec.png\n",
      "[0.03043057 0.03124907 0.03154437 0.03010144 0.03058238 0.03135185\n",
      " 0.03321683 0.03129823 0.03009088 0.03065881 0.03294633 0.03093825\n",
      " 0.03061775 0.03091339 0.0308393  0.03067034 0.03229788 0.03434386\n",
      " 0.03144976 0.03145934 0.03048548 0.03150847 0.03126914 0.03173064\n",
      " 0.02979682 0.03004178 0.03036682 0.03083569 0.0321669  0.0304814\n",
      " 0.03083556 0.03348067]\n"
     ]
    },
    {
     "data": {
      "image/png": "[encoded data removed]",
      "text/plain": [
       "<Figure size 432x288 with 2 Axes>"
      ]
     },
     "metadata": {
      "needs_background": "light"
     },
     "output_type": "display_data"
    },
    {
     "name": "stdout",
     "output_type": "stream",
     "text": [
      "saving cm_rf_norm_emotion_vec.png\n",
      "[0.03095968 0.03132798 0.03123473 0.03162889 0.03160325 0.03053515\n",
      " 0.03145837 0.03159115 0.03110528 0.03037462 0.03210153 0.03109774\n",
      " 0.0318896  0.03149619 0.03139492 0.0305075  0.03155382 0.0307829\n",
      " 0.03113096 0.03117731 0.03032545 0.03057799 0.03158403 0.03295645\n",
      " 0.03184648 0.03007423 0.03126153 0.03134573 0.03137955 0.03022734\n",
      " 0.0317366  0.03173305]\n"
     ]
    }
   ],
   "source": [
    "all_results = []\n",
    "importances = []\n",
    "\n",
    "for dataset_name in [\"norm_tweet\", \"norm_emotion\"]: \n",
    "    #for key, feature_set in features.items(): \n",
    "    #    results, importance = classify_with_rf(*load_lex_data(dataset_name, feature_set), trees_for_dataset.get(dataset_name + \"_\" + key, 10))\n",
    "    #    all_results.append([dataset_name, key, *results])\n",
    "    #    importances.append(importance)\n",
    "    results, importance = classify_with_rf(*load_vector_data(dataset_name), trees_for_dataset.get(dataset_name + \"_vec\", 10))\n",
    "    all_results.append([dataset_name, \"vec\", *results])\n",
    "    importances.append(importance)\n",
    "    \n",
    "for index, result in enumerate(all_results):\n",
    "    draw_confusion_matrix(*result)\n",
    "    print(importances[index])"
   ]
  },
  {
   "cell_type": "code",
   "execution_count": null,
   "metadata": {},
   "outputs": [],
   "source": []
  },
  {
   "cell_type": "code",
   "execution_count": null,
   "metadata": {},
   "outputs": [],
   "source": []
  },
  {
   "cell_type": "code",
   "execution_count": null,
   "metadata": {},
   "outputs": [],
   "source": []
  }
 ],
 "metadata": {
  "kernelspec": {
   "display_name": "Python 3",
   "language": "python",
   "name": "python3"
  },
  "language_info": {
   "codemirror_mode": {
    "name": "ipython",
    "version": 3
   },
   "file_extension": ".py",
   "mimetype": "text/x-python",
   "name": "python",
   "nbconvert_exporter": "python",
   "pygments_lexer": "ipython3",
   "version": "3.6.8"
  }
 },
 "nbformat": 4,
 "nbformat_minor": 2
}
