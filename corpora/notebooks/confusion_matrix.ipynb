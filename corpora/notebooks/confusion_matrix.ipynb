{
 "cells": [
  {
   "cell_type": "code",
   "execution_count": 1,
   "metadata": {},
   "outputs": [],
   "source": [
    "import pandas\n",
    "import torch\n",
    "import torch.nn as nn\n",
    "import torch.nn.functional as F\n",
    "from torch.autograd import Variable\n",
    "import torch.optim as optim\n",
    "import pandas as pd\n",
    "import os\n",
    "from sklearn.model_selection import train_test_split"
   ]
  },
  {
   "cell_type": "code",
   "execution_count": 3,
   "metadata": {},
   "outputs": [
    {
     "name": "stdout",
     "output_type": "stream",
     "text": [
      "generating datasets\n",
      "... loading emotion_classification_1_clean.csv\n",
      "... loading emotion_classification_2_clean.csv\n",
      "... loading emotion_classification_3_clean.csv\n",
      "... loading emotion_classification_4_clean.csv\n",
      "... loading emotion_classification_5_clean.csv\n",
      "... loading emotion_classification_6_clean.csv\n",
      "... loading emotion_classification_7_clean.csv\n",
      "... loading emotion_classification_8_clean.csv\n",
      "... splitting data\n",
      "... seperating target and feature vecs\n"
     ]
    }
   ],
   "source": [
    "def make_data(list_of_datasets): \n",
    "\tprint(\"generating datasets\") \n",
    "\tdatasets = []\n",
    "\ttarget_vec = []\n",
    "\tdata = []\n",
    "\ttrain_x, train_y, test_x, test_y = [], [], [], []\n",
    "\n",
    "\t# load datasets\n",
    "\tfor f in list_of_datasets:\n",
    "\t\tprint(\"... loading\", f)\n",
    "\t\tdatasets.append(pd.read_csv(\"../\" + f))\n",
    "\tdataset = pd.concat(datasets, axis=0, ignore_index=True)\n",
    "\t\n",
    "\t# split data into train and test set\n",
    "\tprint(\"... splitting data\")\n",
    "\ttrain_data, test_data = train_test_split(dataset, test_size=0.3)\n",
    "\t\n",
    "\t# build train set\n",
    "\tprint(\"... seperating target and feature vecs\") \t\n",
    "\tfor index, row in train_data.iterrows():\n",
    "\t\tif row[\"affect\"] == 0:\n",
    "\t\t\ttrain_y.append([1, 0, 0, 0])\n",
    "\t\telif row[\"affect\"] == 1:\n",
    "\t\t\ttrain_y.append([0, 1, 0, 0])\n",
    "\t\telif row[\"affect\"] == 2:\n",
    "\t\t\ttrain_y.append([0, 0, 1, 0])\n",
    "\t\telif row[\"affect\"] == 3:\n",
    "\t\t\ttrain_y.append([0, 0, 0, 1]) \n",
    "\t\ttrain_x.append([row[\"word_count\"], row[\"upper_word_count\"], row[\"ent_word_count\"], row[\"h_count\"], row[\"s_count\"], row[\"a_count\"], row[\"f_count\"], row[\"cons_punct_count\"]])\n",
    "\n",
    "\n",
    "\t# build test set\t\n",
    "\tfor index, row in test_data.iterrows():\n",
    "\t\tif row[\"affect\"] == 0:\n",
    "\t\t\ttest_y.append([1, 0, 0, 0])\n",
    "\t\telif row[\"affect\"] == 1:\n",
    "\t\t\ttest_y.append([0, 1, 0, 0])\n",
    "\t\telif row[\"affect\"] == 2:\n",
    "\t\t\ttest_y.append([0, 0, 1, 0])\n",
    "\t\telif row[\"affect\"] == 3:\n",
    "\t\t\ttest_y.append([0, 0, 0, 1]) \n",
    "\t\ttest_x.append([row[\"word_count\"], row[\"upper_word_count\"], row[\"ent_word_count\"], row[\"h_count\"], row[\"s_count\"], row[\"a_count\"], row[\"f_count\"], row[\"cons_punct_count\"]])\n",
    "\n",
    "\treturn Variable(torch.Tensor(train_x)), Variable(torch.Tensor(test_x)), Variable(torch.Tensor(train_y)), Variable(torch.Tensor(test_y))\n",
    "\n",
    "train_x, test_x, train_y, test_y = make_data([\"emotion_classification_1_clean.csv\", \"emotion_classification_2_clean.csv\", \"emotion_classification_3_clean.csv\", \"emotion_classification_4_clean.csv\", \"emotion_classification_5_clean.csv\", \"emotion_classification_6_clean.csv\", \"emotion_classification_7_clean.csv\", \"emotion_classification_8_clean.csv\"])"
   ]
  },
  {
   "cell_type": "code",
   "execution_count": 4,
   "metadata": {},
   "outputs": [],
   "source": [
    "class Lin_Net(nn.Module):\n",
    "\n",
    "\tdef __init__(self):\n",
    "\t\t# initiate layers\n",
    "\t\tsuper(Lin_Net, self).__init__()\n",
    "\t\tself.lin1 = nn.Linear(8, 8)\n",
    "\t\tself.lin2 = nn.Linear(8, 4)\n",
    "\n",
    "\tdef forward(self, x):\n",
    "\t\t# define forward pass\n",
    "\t\tx = F.relu(self.lin1(x))\n",
    "\t\tx = self.lin2(x)\n",
    "\t\treturn x\n",
    "\n",
    "\tdef num_flat_features(self, x):\n",
    "\t\tself.size = x.size()[1:]\n",
    "\t\tself.num = 1\n",
    "\t\t# calculate the number of features\n",
    "\t\tfor i in self.size:\n",
    "\t\t\tself.num *= i\n",
    "\t\treturn self.num\n",
    "    \n",
    "lin_net = Lin_Net()"
   ]
  },
  {
   "cell_type": "code",
   "execution_count": 9,
   "metadata": {},
   "outputs": [
    {
     "name": "stdout",
     "output_type": "stream",
     "text": [
      "0 tensor(0.1758, grad_fn=<MseLossBackward>)\n",
      "1 tensor(0.1758, grad_fn=<MseLossBackward>)\n",
      "2 tensor(0.1758, grad_fn=<MseLossBackward>)\n",
      "3 tensor(0.1758, grad_fn=<MseLossBackward>)\n",
      "4 tensor(0.1758, grad_fn=<MseLossBackward>)\n",
      "5 tensor(0.1758, grad_fn=<MseLossBackward>)\n",
      "6 tensor(0.1758, grad_fn=<MseLossBackward>)\n",
      "7 tensor(0.1758, grad_fn=<MseLossBackward>)\n",
      "8 tensor(0.1758, grad_fn=<MseLossBackward>)\n",
      "9 tensor(0.1758, grad_fn=<MseLossBackward>)\n",
      "10 tensor(0.1758, grad_fn=<MseLossBackward>)\n",
      "11 tensor(0.1758, grad_fn=<MseLossBackward>)\n",
      "12 tensor(0.1758, grad_fn=<MseLossBackward>)\n",
      "13 tensor(0.1758, grad_fn=<MseLossBackward>)\n",
      "14 tensor(0.1758, grad_fn=<MseLossBackward>)\n",
      "15 tensor(0.1758, grad_fn=<MseLossBackward>)\n",
      "16 tensor(0.1758, grad_fn=<MseLossBackward>)\n",
      "17 tensor(0.1758, grad_fn=<MseLossBackward>)\n",
      "18 tensor(0.1758, grad_fn=<MseLossBackward>)\n",
      "19 tensor(0.1758, grad_fn=<MseLossBackward>)\n",
      "20 tensor(0.1758, grad_fn=<MseLossBackward>)\n",
      "21 tensor(0.1758, grad_fn=<MseLossBackward>)\n",
      "22 tensor(0.1758, grad_fn=<MseLossBackward>)\n",
      "23 tensor(0.1758, grad_fn=<MseLossBackward>)\n",
      "24 tensor(0.1758, grad_fn=<MseLossBackward>)\n",
      "25 tensor(0.1758, grad_fn=<MseLossBackward>)\n",
      "26 tensor(0.1758, grad_fn=<MseLossBackward>)\n",
      "27 tensor(0.1758, grad_fn=<MseLossBackward>)\n",
      "28 tensor(0.1758, grad_fn=<MseLossBackward>)\n",
      "29 tensor(0.1758, grad_fn=<MseLossBackward>)\n",
      "30 tensor(0.1758, grad_fn=<MseLossBackward>)\n",
      "31 tensor(0.1758, grad_fn=<MseLossBackward>)\n",
      "32 tensor(0.1758, grad_fn=<MseLossBackward>)\n",
      "33 tensor(0.1758, grad_fn=<MseLossBackward>)\n",
      "34 tensor(0.1758, grad_fn=<MseLossBackward>)\n",
      "35 tensor(0.1758, grad_fn=<MseLossBackward>)\n",
      "36 tensor(0.1758, grad_fn=<MseLossBackward>)\n",
      "37 tensor(0.1758, grad_fn=<MseLossBackward>)\n",
      "38 tensor(0.1758, grad_fn=<MseLossBackward>)\n",
      "39 tensor(0.1758, grad_fn=<MseLossBackward>)\n",
      "40 tensor(0.1758, grad_fn=<MseLossBackward>)\n",
      "41 tensor(0.1758, grad_fn=<MseLossBackward>)\n",
      "42 tensor(0.1758, grad_fn=<MseLossBackward>)\n",
      "43 tensor(0.1758, grad_fn=<MseLossBackward>)\n",
      "44 tensor(0.1758, grad_fn=<MseLossBackward>)\n",
      "45 tensor(0.1758, grad_fn=<MseLossBackward>)\n",
      "46 tensor(0.1758, grad_fn=<MseLossBackward>)\n",
      "47 tensor(0.1758, grad_fn=<MseLossBackward>)\n",
      "48 tensor(0.1758, grad_fn=<MseLossBackward>)\n",
      "49 tensor(0.1758, grad_fn=<MseLossBackward>)\n",
      "50 tensor(0.1758, grad_fn=<MseLossBackward>)\n",
      "51 tensor(0.1758, grad_fn=<MseLossBackward>)\n",
      "52 tensor(0.1758, grad_fn=<MseLossBackward>)\n",
      "53 tensor(0.1758, grad_fn=<MseLossBackward>)\n",
      "54 tensor(0.1758, grad_fn=<MseLossBackward>)\n",
      "55 tensor(0.1758, grad_fn=<MseLossBackward>)\n",
      "56 tensor(0.1758, grad_fn=<MseLossBackward>)\n",
      "57 tensor(0.1758, grad_fn=<MseLossBackward>)\n",
      "58 tensor(0.1758, grad_fn=<MseLossBackward>)\n",
      "59 tensor(0.1758, grad_fn=<MseLossBackward>)\n",
      "60 tensor(0.1758, grad_fn=<MseLossBackward>)\n",
      "61 tensor(0.1758, grad_fn=<MseLossBackward>)\n",
      "62 tensor(0.1758, grad_fn=<MseLossBackward>)\n",
      "63 tensor(0.1758, grad_fn=<MseLossBackward>)\n",
      "64 tensor(0.1758, grad_fn=<MseLossBackward>)\n",
      "65 tensor(0.1758, grad_fn=<MseLossBackward>)\n",
      "66 tensor(0.1758, grad_fn=<MseLossBackward>)\n",
      "67 tensor(0.1758, grad_fn=<MseLossBackward>)\n",
      "68 tensor(0.1758, grad_fn=<MseLossBackward>)\n",
      "69 tensor(0.1758, grad_fn=<MseLossBackward>)\n",
      "70 tensor(0.1758, grad_fn=<MseLossBackward>)\n",
      "71 tensor(0.1758, grad_fn=<MseLossBackward>)\n",
      "72 tensor(0.1758, grad_fn=<MseLossBackward>)\n",
      "73 tensor(0.1758, grad_fn=<MseLossBackward>)\n",
      "74 tensor(0.1758, grad_fn=<MseLossBackward>)\n",
      "75 tensor(0.1758, grad_fn=<MseLossBackward>)\n",
      "76 tensor(0.1758, grad_fn=<MseLossBackward>)\n",
      "77 tensor(0.1758, grad_fn=<MseLossBackward>)\n",
      "78 tensor(0.1758, grad_fn=<MseLossBackward>)\n",
      "79 tensor(0.1758, grad_fn=<MseLossBackward>)\n",
      "80 tensor(0.1758, grad_fn=<MseLossBackward>)\n",
      "81 tensor(0.1758, grad_fn=<MseLossBackward>)\n",
      "82 tensor(0.1758, grad_fn=<MseLossBackward>)\n",
      "83 tensor(0.1758, grad_fn=<MseLossBackward>)\n",
      "84 tensor(0.1758, grad_fn=<MseLossBackward>)\n",
      "85 tensor(0.1758, grad_fn=<MseLossBackward>)\n",
      "86 tensor(0.1758, grad_fn=<MseLossBackward>)\n",
      "87 tensor(0.1758, grad_fn=<MseLossBackward>)\n",
      "88 tensor(0.1758, grad_fn=<MseLossBackward>)\n",
      "89 tensor(0.1758, grad_fn=<MseLossBackward>)\n",
      "90 tensor(0.1758, grad_fn=<MseLossBackward>)\n",
      "91 tensor(0.1758, grad_fn=<MseLossBackward>)\n",
      "92 tensor(0.1758, grad_fn=<MseLossBackward>)\n",
      "93 tensor(0.1758, grad_fn=<MseLossBackward>)\n",
      "94 tensor(0.1758, grad_fn=<MseLossBackward>)\n",
      "95 tensor(0.1758, grad_fn=<MseLossBackward>)\n",
      "96 tensor(0.1758, grad_fn=<MseLossBackward>)\n",
      "97 tensor(0.1758, grad_fn=<MseLossBackward>)\n",
      "98 tensor(0.1758, grad_fn=<MseLossBackward>)\n",
      "99 tensor(0.1758, grad_fn=<MseLossBackward>)\n"
     ]
    }
   ],
   "source": [
    "def train(train_x, train_y, lin_net):\n",
    "    for i in range(100):\n",
    "        # make network-input from csv-data\t\t\n",
    "        inp = torch.Tensor(train_x)\n",
    "        inp.requires_grad = True\n",
    "        # create target tensor\n",
    "        target = Variable(torch.Tensor(train_y))\t\t\n",
    "        # calc output given the inp\n",
    "        output = lin_net(inp)\n",
    "        \n",
    "        # define how the error is calculated (mean squared error)\n",
    "        criterion = nn.MSELoss()\n",
    "        loss = criterion(output, target)\n",
    "        print(i, loss)\n",
    "        # set loss from previous round back to zero\n",
    "        lin_net.zero_grad()\n",
    "        # propagate error back through the network\n",
    "        loss.backward()\n",
    "        optimizer = optim.SGD(lin_net.parameters(), lr=0.05)\n",
    "        optimizer.step()\n",
    "\n",
    "            \n",
    "train(train_x, train_y, lin_net)"
   ]
  },
  {
   "cell_type": "code",
   "execution_count": 10,
   "metadata": {},
   "outputs": [
    {
     "data": {
      "text/plain": [
       "torch.Size([253648, 8])"
      ]
     },
     "execution_count": 10,
     "metadata": {},
     "output_type": "execute_result"
    }
   ],
   "source": [
    "train_x.shape"
   ]
  },
  {
   "cell_type": "code",
   "execution_count": 27,
   "metadata": {},
   "outputs": [],
   "source": [
    "def test(test_x, test_y, lin_net):\n",
    "    input = torch.Tensor(test_x)\n",
    "    target = Variable(torch.Tensor(test_y))\n",
    "    output = lin_net(input)\n",
    "    # define how the error is calculated (mean squared error)\n",
    "    criterion = nn.MSELoss()\n",
    "    loss = criterion(output, target)\n",
    "    return output\n",
    "    \n",
    "output = test(test_x, test_y, lin_net)"
   ]
  },
  {
   "cell_type": "code",
   "execution_count": 31,
   "metadata": {},
   "outputs": [],
   "source": [
    "import numpy as np"
   ]
  },
  {
   "cell_type": "code",
   "execution_count": 37,
   "metadata": {},
   "outputs": [
    {
     "name": "stdout",
     "output_type": "stream",
     "text": [
      "torch.Size([108707, 4])\n",
      "torch.Size([108707, 4])\n",
      "[[0. 0. 0. 0.]\n",
      " [0. 0. 0. 0.]\n",
      " [0. 0. 0. 0.]\n",
      " [0. 0. 0. 0.]]\n"
     ]
    }
   ],
   "source": [
    "print(output.shape)\n",
    "print(test_y.shape)\n",
    "\n",
    "conf = np.zeros((4,4))\n",
    "output = output.tolist()\n",
    "test_y = test_y.tolist()\n",
    "print(conf)"
   ]
  },
  {
   "cell_type": "code",
   "execution_count": 53,
   "metadata": {},
   "outputs": [
    {
     "name": "stdout",
     "output_type": "stream",
     "text": [
      "[[83260.     0.     0.     0.]\n",
      " [71832.     0.     0.     0.]\n",
      " [33926.     0.     0.     0.]\n",
      " [28396.     0.     0.     0.]]\n"
     ]
    }
   ],
   "source": [
    "for i, element in enumerate(test_y):\n",
    "    #print(test_y[i], max(test_y[i]), type(max(test_y[i])))\n",
    "    m1 = max(test_y[i])\n",
    "    m2 = max(output[i])\n",
    "    \n",
    "    #print(test_y[i].index(m1), output[i].index(m2))\n",
    "    \n",
    "    conf[test_y[i].index(m1), output[i].index(m2)] += 1\n",
    "    \n",
    "print(conf)\n",
    "    \n",
    "    \n",
    "    \n",
    "    \n",
    "    #print(test_y.index(max(test_y[i])))\n",
    "    #conf[test_y.index(max(test_y[i]))][output.index(max(index[i]))] += 1\n"
   ]
  },
  {
   "cell_type": "code",
   "execution_count": null,
   "metadata": {},
   "outputs": [],
   "source": []
  }
 ],
 "metadata": {
  "kernelspec": {
   "display_name": "Python 3",
   "language": "python",
   "name": "python3"
  },
  "language_info": {
   "codemirror_mode": {
    "name": "ipython",
    "version": 3
   },
   "file_extension": ".py",
   "mimetype": "text/x-python",
   "name": "python",
   "nbconvert_exporter": "python",
   "pygments_lexer": "ipython3",
   "version": "3.6.8"
  }
 },
 "nbformat": 4,
 "nbformat_minor": 2
}
