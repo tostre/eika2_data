{
 "cells": [
  {
   "cell_type": "code",
   "execution_count": 14,
   "metadata": {},
   "outputs": [],
   "source": [
    "import gensim.models\n",
    "import gensim.corpora\n",
    "import gensim as gs\n",
    "import pandas as pd\n",
    "from gensim.models import FastText\n",
    "from gensim.models.phrases import Phrases, Phraser\n",
    "from joblib import dump, load\n",
    "import numpy as np\n",
    "import nltk\n",
    "from nltk.stem.porter import *\n",
    "import numpy as np\n",
    "import spacy\n",
    "nlp = spacy.load(\"en_core_web_lg\")\n",
    "stemmer = nltk.stem.SnowballStemmer('english')"
   ]
  },
  {
   "cell_type": "code",
   "execution_count": 64,
   "metadata": {},
   "outputs": [],
   "source": [
    "def split_punct(text):\n",
    "    replacement = [(\".\", \" . \"), (\",\", \" , \"), (\"!\", \" ! \"), (\"?\", \" ? \")]\n",
    "    for k, v in replacement: \n",
    "        text = text.replace(k, v)\n",
    "    return text\n",
    "    \n",
    "def get_emotion_words(stems, list_of_lexica):\n",
    "    emotion_words = np.zeros(4)\n",
    "    for index, lexicon in enumerate(list_of_lexica): \n",
    "        for stem in stems:\n",
    "            if stem in lexicon:\n",
    "                emotion_words[index] = emotion_words[index] + 1\n",
    "    return emotion_words\n",
    "\n",
    "def get_cons_punct_count(pos):\n",
    "    cons_punct_count = 0\n",
    "    for index, item in enumerate(pos[:-1]):\n",
    "        if item == 97 and item == pos[index+1]:\n",
    "            cons_punct_count += 1\n",
    "    return cons_punct_count\n",
    "\n",
    "def extract_features(list_of_lexica, input_message, seq_len): \n",
    "    doc = nlp(split_punct(input_message))\n",
    "    doc = nlp(\" \".join([token.text for token in doc if not token.is_stop and token.pos != 103]))\n",
    "    if len(doc) != 0:\n",
    "        pos = [token.pos for token in doc]\n",
    "        stems = [stemmer.stem(token.text) for token in doc if token.pos != 97]\n",
    "        emotion_words = get_emotion_words(stems, list_of_lexica)\n",
    "        feature_vec = [\n",
    "            (len(doc)/seq_len), (sum([token.text.isupper() for token in doc])/len(doc)), \n",
    "            (len(doc.ents)/len(doc)),get_cons_punct_count(pos), \n",
    "            emotion_words[0]/len(doc), emotion_words[1]/len(doc), emotion_words[2]/len(doc), emotion_words[3]/len(doc)]\n",
    "        return feature_vec, pos, stems\n",
    "    return [], [], []"
   ]
  },
  {
   "cell_type": "code",
   "execution_count": null,
   "metadata": {},
   "outputs": [],
   "source": [
    "\n",
    "\n",
    "\n",
    "\n"
   ]
  },
  {
   "cell_type": "code",
   "execution_count": 104,
   "metadata": {},
   "outputs": [],
   "source": [
    "lexica_names = [\"clean_happiness\", \"clean_sadness\", \"clean_anger\", \"clean_fear\"]\n",
    "list_of_lexica = [pd.read_csv(\"../../lexica/\" + dataset_name + \".csv\") for dataset_name in lexica_names]\n",
    "seq_len = {\"norm_tweet\": 81, \"norm_emotion\": 32}\n",
    "\n",
    "classifier = [\"norm_emotion_full_logistic_regression\",\n",
    "              \"norm_emotion_lex_logistic_regression\",\n",
    "              \"norm_emotion_vec-unigram_logistic_regression\",\n",
    "              \"norm_emotion_vec-bigram_logistic_regression\",\n",
    "              \"norm_emotion_topics_logistic_regression\",\n",
    "              \"norm_tweet_full_logistic_regression\",\n",
    "              \"norm_tweet_lex_logistic_regression\",\n",
    "              \"norm_tweet_vec-unigram_logistic_regression\",\n",
    "              \"norm_tweet_vec-bigram_logistic_regression\",\n",
    "              \"norm_tweet_topics_logistic_regression\",\n",
    "              \"norm_emotion_full_random_forests\",\n",
    "              \"norm_emotion_lex_random_forests\",\n",
    "              \"norm_emotion_vec-unigram_random_forests\",\n",
    "              \"norm_emotion_vec-bigram_random_forests\",\n",
    "              \"norm_emotion_topics_random_forests\",\n",
    "              \"norm_tweet_full_random_forests\",\n",
    "              \"norm_tweet_lex_random_forests\",\n",
    "              \"norm_tweet_vec-unigram_random_forests\",\n",
    "              \"norm_tweet_vec-bigram_random_forests\",\n",
    "              \"norm_tweet_topics_random_forests\",\n",
    "              \"net_lin_emotion(full)\",\n",
    "              \"net_lin_emotion(lex)\",\n",
    "              \"net_lin_emotion(vec-unigram)\",\n",
    "              \"net_lin_emotion(vec-bigram)\",\n",
    "              \"net_lin_emotion(topics)\",\n",
    "              \"net_lin_tweet(full)\",\n",
    "              \"net_lin_tweet(lex)\",\n",
    "              \"net_lin_tweet(vec-unigram)\",\n",
    "              \"net_lin_tweet(vec-bigram)\",\n",
    "              \"net_lin_tweet(topics)\"]\n",
    "\n",
    "c_name = classifier[1]\n",
    "\n",
    "\n",
    "\n",
    "              \n",
    "classifier = [\"lr\", \"rf\", \"net\"]\n",
    "datasets = [\"norm_emotion\", \"norm_tweet\"]\n",
    "features_sets = [\"full\", \"lex\", \"vec-unigram\", \"vec-bigram\", \"topics\"]\n",
    "\n",
    "def load_classifier(c_name):\n",
    "    if \"logistic_regression\" in c_name:\n",
    "        c = load(\"../models/logistic_regression/\" + c_name + \".joblib\") \n",
    "    elif \"random_forests\" in c_name: \n",
    "        c = load(\"../models/random_forests/\" + c_name + \".joblib\") \n",
    "    elif \"net\" in c_name: \n",
    "        c = Net_Lin_Emotion_All()\n",
    "        c.load_state_dict(torch.load(\"../nets/net_lin_emotion_all.pt\"))\n",
    "    print(c)\n",
    "    return c\n",
    "        \n",
    "def classify_input(c, input_message):\n",
    "    fvec = extract_features(list_of_lexica, input_message, seq_len[dataset_name])\n",
    "    for a in fvec: print(a)\n",
    "    print(\"prediction: \", c.predict([fvec[0]]))\n",
    "    print(\"predict_proba\", c.predict_proba([fvec[0]]))"
   ]
  },
  {
   "cell_type": "code",
   "execution_count": 106,
   "metadata": {},
   "outputs": [
    {
     "name": "stdout",
     "output_type": "stream",
     "text": [
      "RandomForestClassifier(bootstrap=True, class_weight=None, criterion='gini',\n",
      "                       max_depth=None, max_features='auto', max_leaf_nodes=None,\n",
      "                       min_impurity_decrease=0.0, min_impurity_split=None,\n",
      "                       min_samples_leaf=1, min_samples_split=2,\n",
      "                       min_weight_fraction_leaf=0.0, n_estimators=21,\n",
      "                       n_jobs=None, oob_score=False, random_state=None,\n",
      "                       verbose=0, warm_start=False)\n"
     ]
    }
   ],
   "source": [
    "lr_test = \"norm_emotion_full_logistic_regression\"\n",
    "rf_test = \"norm_emotion_full_random_forests\"\n",
    "net_test = \"net_lin_emotion(full)\"\n",
    "\n",
    "c = load_classifier(rf_test)"
   ]
  },
  {
   "cell_type": "code",
   "execution_count": 107,
   "metadata": {},
   "outputs": [
    {
     "name": "stdout",
     "output_type": "stream",
     "text": [
      "[0.07407407407407407, 0.0, 0.0, 0, 0.0, 0.0, 0.0, 0.0]\n",
      "[91, 97, 84, 92, 92, 84]\n",
      "['hello', 'absurd', 'hous', 'glitter', 'aw']\n",
      "prediction:  [0]\n",
      "predict_proba [[0.27901031 0.27653536 0.27236148 0.17209284]]\n"
     ]
    }
   ],
   "source": [
    "input_message = \"Hello, this is absurd my house is not a glitter awful\"\n",
    "classify_input(c, input_message)"
   ]
  },
  {
   "cell_type": "code",
   "execution_count": null,
   "metadata": {},
   "outputs": [],
   "source": []
  }
 ],
 "metadata": {
  "kernelspec": {
   "display_name": "Python 3",
   "language": "python",
   "name": "python3"
  },
  "language_info": {
   "codemirror_mode": {
    "name": "ipython",
    "version": 3
   },
   "file_extension": ".py",
   "mimetype": "text/x-python",
   "name": "python",
   "nbconvert_exporter": "python",
   "pygments_lexer": "ipython3",
   "version": "3.6.8"
  }
 },
 "nbformat": 4,
 "nbformat_minor": 2
}
