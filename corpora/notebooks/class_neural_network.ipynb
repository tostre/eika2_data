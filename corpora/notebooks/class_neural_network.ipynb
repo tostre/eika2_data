{
 "cells": [
  {
   "cell_type": "code",
   "execution_count": 148,
   "metadata": {},
   "outputs": [],
   "source": [
    "import pandas\n",
    "import numpy as np\n",
    "import torch\n",
    "import torch.nn as nn\n",
    "import torch.nn.functional as F\n",
    "import torch.utils.data as D\n",
    "from torch.autograd import Variable\n",
    "import torch.optim as optim\n",
    "import pandas as pd\n",
    "import os\n",
    "from sklearn.model_selection import train_test_split\n",
    "from torch.utils.data import Dataset, TensorDataset\n",
    "from torch.utils.data import DataLoader\n",
    "import matplotlib\n",
    "#matplotlib.use('Agg')\n",
    "import matplotlib.pyplot as plt\n",
    "from sklearn.metrics import f1_score\n",
    "import intersection as ints\n",
    "import seaborn as sn\n",
    "from sklearn.metrics import confusion_matrix"
   ]
  },
  {
   "cell_type": "code",
   "execution_count": 2,
   "metadata": {},
   "outputs": [],
   "source": [
    "class Lin_Net(nn.Module):\n",
    "    def __init__(self, input_dim, output_dim, hidden_dim, num_hidden_layers, act_function):\n",
    "        super(Lin_Net, self).__init__()\n",
    "        self.act_function = act_function\n",
    "        \n",
    "        self.lin1 = nn.Linear(input_dim, hidden_dim)\n",
    "        self.hidden_layers = [nn.Linear(hidden_dim, hidden_dim) for i in range(0, num_hidden_layers)]\n",
    "        self.lin4 = nn.Linear(hidden_dim, output_dim)\n",
    "\n",
    "    def forward(self, x):\n",
    "        x = self.act_function(self.lin1(x))\n",
    "        for hidden_layer in self.hidden_layers: \n",
    "            x = self.act_function(hidden_layer(x))\n",
    "        x = self.lin4(x)\n",
    "        return x\n",
    "    \n",
    "class MyDataset(D.Dataset):\n",
    "    def __init__(self, x_tensor, y_tensor):\n",
    "        self.x = torch.from_numpy(x_tensor)\n",
    "        self.y = torch.from_numpy(y_tensor)\n",
    "        \n",
    "    def __getitem__(self, index):\n",
    "        return (self.x[index], self.y[index])\n",
    "\n",
    "    def __len__(self):\n",
    "        return len(self.x)"
   ]
  },
  {
   "cell_type": "code",
   "execution_count": 161,
   "metadata": {},
   "outputs": [],
   "source": [
    "def convert_to_cuda(cuda, inputs, targets, net):\n",
    "    if cuda: \n",
    "        return inputs.cuda(), targets.cuda(), net.cuda()\n",
    "    else: \n",
    "        return inputs, targets, net\n",
    "    \n",
    "def log(file_name, message, net=False, epoch=False):\n",
    "    print(message)\n",
    "    log = open(\"{}{}_{}\".format(\"../logs/\", file_name, \".txt\"), \"a\")\n",
    "    log.write(message)\n",
    "    log.close()\n",
    "    # save net\n",
    "    if net and epoch: \n",
    "        torch.save(net.state_dict(), \"{}{}_{}{}\".format(\"../nets/\", file_name, epoch, \".pt\"))\n",
    "\n",
    "def plot_intersection(file_name, plot_type, y1, y2, desc=True):\n",
    "    x, y1, y2  = list(range(1, len(y1)+1)), np.asarray(y1), np.asarray(y2)\n",
    "    # calc intersections\n",
    "    intersection_x = np.argwhere(np.diff(np.sign(y1 - y2))).flatten().tolist()\n",
    "    intersection_y = [y1[x] for x in intersection_x]\n",
    "    epochs = len(x)\n",
    "    hy = max(intersection_y, default=1)\n",
    "    hx = intersection_x[intersection_y.index(hy)] if len(intersection_x) else 0\n",
    "    log_message = \"\\ndataset: {}\\nintersection with F1 = {}, in epoch {}\\n blue=train_f1, green=val_f1\".format(\n",
    "            file_name, hy, hx)\n",
    "    # plot\n",
    "    fig = plt.figure()\n",
    "    plt.clf()\n",
    "    plt.plot(x, y1, \"b-\", x, y2, \"g-\", intersection_x, intersection_y, \"ro\")\n",
    "    plt.ylabel(plot_type)\n",
    "    plt.xlabel(\"epochs\")\n",
    "    plt.grid()\n",
    "    plt.ylim(0,1)\n",
    "    plt.xlim(0, epochs)\n",
    "    plt.hlines(intersection_y, 0, epochs, linestyle=\"dotted\")\n",
    "    fig.text(0.5, -0.15, log_message.replace(\"../logs/\", \"\"), ha='center')\n",
    "    fig.savefig(\"{}{}_{}{}\".format(\"../img/\", file_name, plot_type, \"_intersection.png\"), bbox_inches=\"tight\")\n",
    "    \n",
    "def draw_confusion_matrix(file_name, test_y, pred_y): \n",
    "    fig = plt.figure()\n",
    "    hm = sn.heatmap(confusion_matrix(test_y, pred_y), fmt=\"d\", linewidth=0.5, annot=True, square=True, xticklabels=[\"h\", \"s\", \"a\", \"f\"], yticklabels=[\"h\", \"s\", \"a\", \"f\"], cmap=\"PuRd\")\n",
    "    ax1 = fig.add_axes(hm)\n",
    "    ax1.set(xlabel=\"predicted\", ylabel=\"target\")\n",
    "    #desc = \"dataset: {} ({}), trained over {} trees and {} topics\\nscore: {}, f1_score: {}\".format(dataset_name, feature_set_name, num_trees, num_topics, score, f1_scoore)\n",
    "    desc = \"dataset: {}\".format(file_name)\n",
    "    fig.text(0.5, -0.1, desc, ha='center')\n",
    "    plt.show()\n",
    "    fig.savefig(\"{}{}_{}\".format(\"../img/\", file_name, \"confusion.png\"), bbox_inches=\"tight\")"
   ]
  },
  {
   "cell_type": "code",
   "execution_count": 157,
   "metadata": {},
   "outputs": [],
   "source": [
    "def make_data(dataset_name, feature_set_name, features, batch_size, spit_factor):\n",
    "    # load data\n",
    "    dataset = pd.read_csv(\"../cleaned/\" + dataset_name + \"_clean.csv\")\n",
    "    targets = dataset[\"a\"]\n",
    "    if feature_set_name == \"topic\":\n",
    "        dataset = pd.read_csv(\"../cleaned/\" + dataset_name + \"_stems.csv\")\n",
    "    else:\n",
    "        inputs = dataset[features]\n",
    "\n",
    "    # make train and test sets\n",
    "    train_x, val_x, train_y, val_y = train_test_split(inputs, targets, test_size=spit_factor)\n",
    "    train_x, test_x, train_y, test_y = train_test_split(train_x, train_y, test_size=spit_factor)\n",
    "    # make data loaders\n",
    "    train_data = MyDataset(train_x.to_numpy(), train_y.to_numpy())\n",
    "    val_data = MyDataset(val_x.to_numpy(), val_y.to_numpy())\n",
    "    test_data = MyDataset(test_x.to_numpy(), test_y.to_numpy())\n",
    "    train_loader = DataLoader(dataset=train_data, batch_size=batch_size)\n",
    "    val_loader = DataLoader(dataset=val_data, batch_size=round(batch_size*spit_factor))\n",
    "    test_loader = DataLoader(dataset=test_data, batch_size=round(batch_size*spit_factor**2))\n",
    "    return train_loader, val_loader, test_loader\n",
    "\n",
    "    \n",
    "def train(train_loader, val_loader, net, epochs, criterion, cuda, lr, file_name, print_every):\n",
    "    optimizer = optim.Adam(net.parameters(), lr=lr)\n",
    "    train_f1, val_f1, train_e, val_e = [], [], [], []\n",
    "    # training cycle\n",
    "    for epoch in range(epochs):\n",
    "        # for every batch in the train_loader\n",
    "        net.train()\n",
    "        for index, (inputs, targets) in enumerate(train_loader):\n",
    "            inputs, train_targets = inputs.float(), targets.long()\n",
    "            inputs, train_targets, net = convert_to_cuda(cuda, inputs, train_targets, net)\n",
    "            train_pred = net(inputs)\n",
    "            train_loss = criterion(train_pred.float(), train_targets)\n",
    "            optimizer.zero_grad(); train_loss.backward(); optimizer.step()# save error\n",
    "            train_pred = [item.index(max(item)) for item in train_pred.tolist()]\n",
    "            tf1, tloss = f1_score(train_targets.tolist(), train_pred, average=\"weighted\"), train_loss.item()\n",
    "        net.eval()\n",
    "        for index, (inputs, targets) in enumerate(val_loader):\n",
    "            inputs, val_targets = inputs.float(), targets.long()\n",
    "            inputs, val_targets, net = convert_to_cuda(cuda, inputs, val_targets, net)\n",
    "            val_pred = net(inputs)\n",
    "            val_loss = criterion(val_pred.float(), val_targets)\n",
    "            val_pred = [item.index(max(item)) for item in val_pred.tolist()]\n",
    "            vf1, vloss = f1_score(val_targets.tolist(), val_pred, average=\"weighted\"), val_loss.item()\n",
    "        train_f1.append(f1_score(train_targets.tolist(), train_pred, average=\"weighted\"))\n",
    "        val_f1.append(f1_score(val_targets.tolist(), val_pred, average=\"weighted\"))\n",
    "        train_e.append(train_loss.item())\n",
    "        val_e.append(val_loss.item())\n",
    "        # write logs and files \n",
    "        if epoch % print_every == 0:\n",
    "            log(file_name, \"\\nepoch: {}, \\n...train_f1: {}, train_loss: {}, \\tval_f1: {}, val_loss: {}\".format(\n",
    "                epoch, train_f1[-1:], train_e[-1:], val_f1[-1:], val_e[-1:]), net=net, epoch=epoch)\n",
    "    plot_intersection(file_name, \"f1_score\", train_f1, val_f1)\n",
    "    plot_intersection(file_name, \"loss\", train_e, val_e)\n",
    "\n",
    "def test(test_loader, net, file_name): \n",
    "    confusion = []\n",
    "    net.eval()\n",
    "    for index, (inputs, targets) in enumerate(test_loader):\n",
    "        inputs, test_targets = inputs.float(), targets.long()\n",
    "        inputs, test_targets, net = convert_to_cuda(cuda, inputs, targets, net)\n",
    "        test_pred = net(inputs)\n",
    "        test_loss = criterion(test_pred.float(), test_targets).item()\n",
    "        # save error\n",
    "        test_pred = [item.index(max(item)) for item in test_pred.tolist()]\n",
    "    test_f1 = f1_score(test_targets.tolist(), test_pred, average=\"weighted\")\n",
    "    test_e = test_loss\n",
    "    log(file_name, \"\\n...test_f1: {}, test_loss: {}\".format(test_f1, test_loss))\n",
    "    draw_confusion_matrix(file_name, test_targets.tolist(), test_pred)\n",
    "\n",
    "def run(dataset_name, feature_set_name, crit):\n",
    "    if crit == \"cel\":\n",
    "        criterion = nn.CrossEntropyLoss()\n",
    "    elif crit == \"mse\":\n",
    "        criterion = nn.MSELoss()\n",
    "    file_name = \"net_lin_{}_{}({})\".format(crit, dataset_name, feature_set_name)\n",
    "    open(\"{}{}_{}\".format(\"../logs/\", file_name, \".txt\"), \"w\").close()\n",
    "    net = Lin_Net(len(feature_sets[dataset_name + \"_\" + feature_set_name]), output_dim, hidden_dim, num_hidden_layers, act_function)\n",
    "    train_loader, val_loader, test_loader = make_data(dataset_name, feature_set_name, feature_sets[dataset_name + \"_\" + feature_set_name], batch_size, split_factor)\n",
    "    train(train_loader, val_loader, net, epochs, criterion, cuda, lr, file_name, print_every)\n",
    "    test(test_loader, net, file_name)"
   ]
  },
  {
   "cell_type": "code",
   "execution_count": 144,
   "metadata": {},
   "outputs": [
    {
     "name": "stdout",
     "output_type": "stream",
     "text": [
      "creating variables\n"
     ]
    }
   ],
   "source": [
    "# create variables \n",
    "print(\"creating variables\")\n",
    "feature_set_names = [\"full\", \"half\", \"vec\", \"topic\"]\n",
    "feature_sets = {\n",
    "    \"test_full\": [\"wc\", \"ewc\", \"hc\", \"ac\", \"fc\"],\n",
    "    \"test_half\": [\"hc\", \"ac\", \"fc\"],\n",
    "    \"test_topic\": 1,\n",
    "    \"norm_emotion_full\": [\"wc\", \"ewc\", \"hc\", \"ac\", \"fc\"],\n",
    "    \"norm_emotion_half\": [\"hc\", \"ac\", \"fc\"],\n",
    "    \"norm_emotion_topic\":1,\n",
    "    \"norm_tweet_full\": [\"wc\", \"uwc\", \"ewc\", \"cpc\", \"hc\", \"ac\", \"fc\"],\n",
    "    \"norm_tweet_half\": [\"hc\", \"ac\", \"fc\"],\n",
    "    \"norm_tweet_topic\":1 ,\n",
    "}\n",
    "\n",
    "act_function = nn.ReLU()#torch.sigmoid\n",
    "criterion = nn.CrossEntropyLoss()\n",
    "cuda = torch.cuda.is_available()\n",
    "batch_size = 257\n",
    "epochs = 200 + 1\n",
    "print_every = 100\n",
    "split_factor = 0.2\n",
    "output_dim = 4\n",
    "hidden_dim = 64\n",
    "num_hidden_layers = 2\n",
    "lr = 0.1"
   ]
  },
  {
   "cell_type": "code",
   "execution_count": 162,
   "metadata": {},
   "outputs": [
    {
     "name": "stdout",
     "output_type": "stream",
     "text": [
      "\n",
      "epoch: 0, \n",
      "...train_f1: [0.07322654462242563], train_loss: [1.3788644075393677], \tval_f1: [0.4155844155844156], val_loss: [1.1790716648101807]\n",
      "\n",
      "epoch: 100, \n",
      "...train_f1: [0.7805985552115583], train_loss: [0.5380065441131592], \tval_f1: [0.41904761904761906], val_loss: [6.870780944824219]\n",
      "\n",
      "epoch: 200, \n",
      "...train_f1: [0.8355693154454764], train_loss: [0.4082883894443512], \tval_f1: [0.41904761904761906], val_loss: [10.919840812683105]\n",
      "\n",
      "...test_f1: 0.5333333333333333, test_loss: 14.1879243850708\n"
     ]
    },
    {
     "data": {
      "image/png": "[encoded data removed]",
      "text/plain": [
       "<Figure size 432x288 with 1 Axes>"
      ]
     },
     "metadata": {
      "needs_background": "light"
     },
     "output_type": "display_data"
    },
    {
     "data": {
      "image/png": "[encoded data removed]",
      "text/plain": [
       "<Figure size 432x288 with 1 Axes>"
      ]
     },
     "metadata": {
      "needs_background": "light"
     },
     "output_type": "display_data"
    },
    {
     "data": {
      "image/png": "[encoded data removed]",
      "text/plain": [
       "<Figure size 432x288 with 2 Axes>"
      ]
     },
     "metadata": {
      "needs_background": "light"
     },
     "output_type": "display_data"
    }
   ],
   "source": [
    "run(\"test\", \"full\", \"cel\")"
   ]
  },
  {
   "cell_type": "code",
   "execution_count": null,
   "metadata": {},
   "outputs": [],
   "source": []
  },
  {
   "cell_type": "code",
   "execution_count": null,
   "metadata": {},
   "outputs": [],
   "source": []
  },
  {
   "cell_type": "code",
   "execution_count": null,
   "metadata": {},
   "outputs": [],
   "source": []
  },
  {
   "cell_type": "code",
   "execution_count": null,
   "metadata": {},
   "outputs": [],
   "source": []
  }
 ],
 "metadata": {
  "kernelspec": {
   "display_name": "Python 3",
   "language": "python",
   "name": "python3"
  },
  "language_info": {
   "codemirror_mode": {
    "name": "ipython",
    "version": 3
   },
   "file_extension": ".py",
   "mimetype": "text/x-python",
   "name": "python",
   "nbconvert_exporter": "python",
   "pygments_lexer": "ipython3",
   "version": "3.6.8"
  }
 },
 "nbformat": 4,
 "nbformat_minor": 2
}
