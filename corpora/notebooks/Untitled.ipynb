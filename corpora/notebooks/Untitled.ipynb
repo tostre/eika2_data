{
 "cells": [
  {
   "cell_type": "code",
   "execution_count": 116,
   "metadata": {},
   "outputs": [],
   "source": [
    "import pandas as pd \n",
    "from sklearn.model_selection import train_test_split\n",
    "import matplotlib\n",
    "#matplotlib.use('Agg')\n",
    "import matplotlib.pyplot as plt\n",
    "import numpy as np\n",
    "import torch.nn as nn\n",
    "import gensim as gs\n",
    "import gensim\n",
    "import torch.utils.data as D\n",
    "import torch\n",
    "from torch.utils.data import DataLoader\n",
    "from sklearn.metrics import classification_report\n",
    "from sklearn.metrics import f1_score\n",
    "import seaborn as sn\n",
    "from sklearn.metrics import confusion_matrix\n",
    "from gensim.models import FastText\n",
    "from gensim.models.phrases import Phrases, Phraser"
   ]
  },
  {
   "cell_type": "code",
   "execution_count": 2,
   "metadata": {},
   "outputs": [],
   "source": [
    "def load_lex_data2(dataset_name, feature_set=[\"t\"]):\n",
    "    print(\"loading lex data for\", dataset_name, feature_set)\n",
    "    dataset = pd.read_csv(\"../cleaned/\" + dataset_name + \"_clean.csv\")\n",
    "    targets = dataset[\"a\"]\n",
    "    inputs = dataset[feature_set]\n",
    "    train_x, val_x, train_y, val_y = train_test_split(inputs, targets, test_size=0.2)\n",
    "    train_x, test_x, train_y, test_y = train_test_split(train_x, train_y, test_size=0.2)\n",
    "    return print(len(train_x), len(val_x), len(test_x))"
   ]
  },
  {
   "cell_type": "code",
   "execution_count": 3,
   "metadata": {},
   "outputs": [
    {
     "name": "stdout",
     "output_type": "stream",
     "text": [
      "loading lex data for norm_tweet ['t']\n",
      "3777 1181 945\n"
     ]
    }
   ],
   "source": [
    "load_lex_data2(\"norm_tweet\")"
   ]
  },
  {
   "cell_type": "code",
   "execution_count": 33,
   "metadata": {},
   "outputs": [],
   "source": [
    "def plot_intersection(file_name, plot_type, y1, y2, x, desc=True, intersection=False):\n",
    "    y1, y2  = np.asarray(y1), np.asarray(y2)\n",
    "    fig = plt.figure()\n",
    "    plt.clf()\n",
    "    if plot_type == \"f1_score\":\n",
    "        max_y, max_x = round(max(y2),2), y2.tolist().index(max(y2))+1\n",
    "        max_x = max_x * 250\n",
    "        desc = \"\\ndataset: {}\\nbest validation_f1_score = {}, in epoch {}\\n blue=train_f1, green=val_f1\".format(\n",
    "                file_name, round(max_y,2), max_x)\n",
    "        plt.plot(x, y1, \"b-\", x, y2, \"g-\", max_x, max_y, \"ro\")\n",
    "        plt.ylim(0,1.1)\n",
    "    elif plot_type == \"loss\":\n",
    "        desc = \"\\ndataset: {}\\n blue=train_f1, green=val_f1\".format(file_name)\n",
    "        plt.plot(x, y1, \"b-\", x, y2, \"g-\")\n",
    "        plt.ylim(0,max([round(max(y1),2), round(max(y2),2)])+0.1)\n",
    "    plt.ylabel(plot_type)\n",
    "    plt.xlabel(\"epochs\")\n",
    "    plt.xticks(np.arange(500, 5001, 500))\n",
    "    plt.grid()\n",
    "    plt.xlim(0, 5000)\n",
    "    fig.text(0.5, -0.15, desc.replace(\"../logs/\", \"\"), ha='center')\n",
    "    plt.show()\n",
    "    #fig.savefig(\"{}{}_{}{}\".format(\"../img/\", file_name, plot_type, \"_intersection.png\"), bbox_inches=\"tight\")\n",
    "    plt.close(fig)"
   ]
  },
  {
   "cell_type": "code",
   "execution_count": 45,
   "metadata": {},
   "outputs": [
    {
     "name": "stdout",
     "output_type": "stream",
     "text": [
      "20 20\n"
     ]
    },
    {
     "data": {
      "image/png": "[encoded data removed]",
      "text/plain": [
       "<Figure size 432x288 with 1 Axes>"
      ]
     },
     "metadata": {
      "needs_background": "light"
     },
     "output_type": "display_data"
    },
    {
     "data": {
      "image/png": "[encoded data removed]",
      "text/plain": [
       "<Figure size 432x288 with 1 Axes>"
      ]
     },
     "metadata": {
      "needs_background": "light"
     },
     "output_type": "display_data"
    }
   ],
   "source": [
    "x = np.arange(250, 5001, 250)\n",
    "#x = np.arange(1, 21,1)\n",
    "train_f1 = [0,0,0,0,0,0,0,0,0,0,0,0,0,0,0,0,0,0,0,0]\n",
    "val_f1 =   [0,0,0,0,0,0,0,0,0,0,0,0,0,0,0,0,0,0,0,0]\n",
    "print(len(train_f1), len(val_f1))\n",
    "train_loss = [\n",
    "    1.369596004486084,\n",
    "    1.420238971710205,\n",
    "    1.4745992422103882,\n",
    "    1.4776792526245117,\n",
    "    1.4133844375610352,\n",
    "    1.4838616847991943,\n",
    "    1.456976056098938,\n",
    "    1.4333701133728027,\n",
    "    1.4350169897079468,\n",
    "    1.4354537725448608,\n",
    "    1.4222500324249268,\n",
    "    1.4019221067428589,\n",
    "    1.4365110397338867,\n",
    "    1.4224156141281128,\n",
    "    1.4204754829406738,\n",
    "    1.4333224296569824,\n",
    "    1.4250459671020508,\n",
    "    1.4268747568130493,\n",
    "    1.4295859336853027,\n",
    "    1.4364303350448608,\n",
    "    \n",
    "] \n",
    "val_loss = [\n",
    "    1.3731749057769775,\n",
    "    1.2836143970489502,\n",
    "    1.2619519233703613,\n",
    "    1.2965022325515747,\n",
    "    1.286234736442566,\n",
    "    1.254968523979187,\n",
    "    1.3065869808197021,\n",
    "    1.2629072666168213,\n",
    "    \n",
    "    1.2554423809051514,\n",
    "    1.2333674430847168,\n",
    "    1.2658063173294067,\n",
    "    1.2538657188415527,\n",
    "    1.249614953994751,\n",
    "    1.2610279321670532,\n",
    "    1.2582817077636719,\n",
    "    1.2652196884155273,\n",
    "    1.3121912479400635,\n",
    "    1.2500405311584473,\n",
    "    1.3328804969787598,\n",
    "    1.3075675964355469,\n",
    "    \n",
    "]\n",
    "d = \"tweet_vec-unigram\"\n",
    "plot_intersection(d, \"f1_score\", train_f1, val_f1, x)\n",
    "plot_intersection(d, \"loss\", train_loss, val_loss, x)"
   ]
  },
  {
   "cell_type": "code",
   "execution_count": 70,
   "metadata": {},
   "outputs": [],
   "source": [
    "def load_lex_data(dataset_name, feature_set_name, features, batch_size, split_factor=0.2):\n",
    "    print(\"loading lex data\", dataset_name, feature_set_name)\n",
    "    dataset = pd.read_csv(\"../cleaned/\" + dataset_name + \"_clean.csv\")\n",
    "    targets = dataset[\"a\"]\n",
    "    inputs = dataset[features]\n",
    "    return make_loader(inputs, targets, split_factor)\n",
    "    \n",
    "def load_vector_data(dataset_name, bgr=False, split_factor=0.2):\n",
    "    print(\"loading vector data for\", dataset_name)\n",
    "    sentences = pd.read_csv(\"../cleaned/\" + dataset_name + \"_stems.csv\", delimiter=\",\").astype(str).values.tolist()\n",
    "    targets = pd.read_csv(\"../cleaned/\" + dataset_name + \"_clean.csv\")[\"a\"]\n",
    "    vector_model = FastText.load(\"../models/word_embeddings/\" + dataset_name + \"_fasttext\")\n",
    "    # replace placeholders (\" \"), make one-string-sentences\n",
    "    print(\"... replacing placeholders\")\n",
    "    for index, sample in enumerate(sentences): \n",
    "            sentences[index] = list(filter((\" \").__ne__, sample))\n",
    "    inputs = [\" \".join(sentence) for sentence in sentences]\n",
    "    tokenized = sentences\n",
    "    if bgr:\n",
    "        bigram = Phraser.load(\"../models/bigrams/bigram_\" + dataset_name + \".pkl\")\n",
    "        bigrammed = [bigram[sentence] for sentence in sentences]\n",
    "        tokenized = bigrammed\n",
    "    inputs = [np.sum(vector_model.wv[sent], 0).tolist() if sent else np.zeros(32) for sent in tokenized]   \n",
    "    inputs = np.array(inputs)\n",
    "    train_loader, val_loader, test_loader = make_loader(inputs, targets, split_factor)\n",
    "    return len(inputs[0]), train_loader, val_loader, test_loader\n",
    "\n",
    "def load_topic_data(dataset_name, split_factor=0.2):\n",
    "    print(\"loading lex data\", dataset_name)\n",
    "    inputs = []\n",
    "    num_topics = num_topics_dict[dataset_name]\n",
    "    dataset = pd.read_csv(\"../cleaned/\" + dataset_name + \"_clean.csv\")\n",
    "    targets = dataset[\"a\"]\n",
    "    dataset = dataset.astype(str).values.tolist() \n",
    "    dic = gs.corpora.Dictionary.load(\"../models/dictionary/\" + dataset_name + \"_dictionary\")\n",
    "    lda_model = gensim.models.ldamulticore.LdaMulticore.load(\"../models/topic_models/\" + dataset_name + \"_ldamodel\")   \n",
    "    print(\"../models/topic_models/\" + dataset_name + \"_ldamodel\")\n",
    "    for index, sample in enumerate(dataset): \n",
    "        dataset[index] = list(filter((\" \").__ne__, sample))\n",
    "    for i, sample in enumerate(dataset):\n",
    "        sentence = dic.doc2bow(dataset[i])\n",
    "        topics = lda_model.get_document_topics(sentence, minimum_probability=0.0)\n",
    "        topic_vec = [topics[i][1] for i in range(num_topics)] \n",
    "        inputs.append(topic_vec)\n",
    "    train_loader, val_loader, test_loader = make_loader(inputs, targets, split_factor)\n",
    "    topics_num = len(lda_model.get_topics())\n",
    "    return topics_num, train_loader, val_loader, test_loader\n",
    "    \n",
    "\n",
    "def make_loader(inputs, targets, test_size):\n",
    "    # make train and test sets\n",
    "    train_x, val_x, train_y, val_y = train_test_split(inputs, targets, test_size=test_size)\n",
    "    train_x, test_x, train_y, test_y = train_test_split(train_x, train_y, test_size=test_size)\n",
    "    train_data = MyDataset(np.asarray(train_x), np.asarray(train_y))\n",
    "    val_data = MyDataset(np.asarray(val_x), np.asarray(val_y))\n",
    "    test_data = MyDataset(np.asarray(test_x), np.asarray(test_y))\n",
    "    train_loader = DataLoader(dataset=train_data, batch_size=batch_size)\n",
    "    val_loader = DataLoader(dataset=val_data, batch_size=round(batch_size*test_size))\n",
    "    test_loader = DataLoader(dataset=test_data, batch_size=1)\n",
    "    return train_loader, val_loader, test_loader"
   ]
  },
  {
   "cell_type": "code",
   "execution_count": 107,
   "metadata": {},
   "outputs": [],
   "source": [
    "class Lin_Net(nn.Module):\n",
    "    def __init__(self, input_dim, output_dim, hidden_dim, num_hidden_layers):\n",
    "        super(Lin_Net, self).__init__()\n",
    "        self.act_function = nn.ReLU()\n",
    "        self.lin1 = nn.Linear(input_dim, hidden_dim)\n",
    "        self.hidden_layers = nn.ModuleList([nn.Linear(hidden_dim, hidden_dim) for i in range(0, num_hidden_layers)])\n",
    "        self.lin4 = nn.Linear(hidden_dim, output_dim)\n",
    "\n",
    "    def forward(self, x):\n",
    "        x = self.act_function(self.lin1(x))\n",
    "        for i, hidden_layer in enumerate(self.hidden_layers):\n",
    "            x = self.act_function(hidden_layer(x))\n",
    "        x = self.lin4(x)\n",
    "        return x\n",
    "    \n",
    "class MyDataset(D.Dataset):\n",
    "    def __init__(self, x_tensor, y_tensor):\n",
    "        self.x = torch.from_numpy(x_tensor)\n",
    "        self.y = torch.from_numpy(y_tensor)\n",
    "        \n",
    "    def __getitem__(self, index):\n",
    "        return (self.x[index], self.y[index])\n",
    "\n",
    "    def __len__(self):\n",
    "        return len(self.x)\n",
    "    \n",
    "def test(test_loader, net, file_name): \n",
    "    print(\"testing\")\n",
    "    all_targets, preds, test_e = [], [], []\n",
    "    net.eval()\n",
    "    for index, (inputs, targets) in enumerate(test_loader):\n",
    "        inputs, test_targets = inputs.float(), targets.long()\n",
    "        test_pred = net(inputs).tolist()[0]\n",
    "        preds.append(test_pred.index(max(test_pred)))\n",
    "        all_targets.append(test_targets.tolist()[0])\n",
    "    test_f1 = f1_score(all_targets, preds, average=\"weighted\")\n",
    "    with open(\"../reports/report_\"+file_name+\".txt\", 'w') as f:\n",
    "        print(file_name + \", f1_score: \" + str(test_f1) + \":\\n\\n\" + \n",
    "          classification_report(all_targets, preds,target_names=classes), file=f)\n",
    "    print(test_f1)\n",
    "    draw_confusion_matrix(file_name, all_targets, preds, test_f1)\n",
    "    \n",
    "def run(dataset_name, feature_set_name):\n",
    "    file_name = \"net_lin_{}({})\".format(dataset_name, feature_set_name)\n",
    "    print(\"running \", file_name)\n",
    "    if feature_set_name == \"topics\":\n",
    "        num_topics, train_loader, val_loader, test_loader = load_topic_data(dataset_name)\n",
    "        net = Lin_Net(num_topics, output_dim, hidden_dim, num_hidden_layers)\n",
    "        net.load_state_dict(torch.load(\"../nets/net_lin_\" + dataset_name+\"_\"+feature_set_name +\"/net_lin_\" + dataset_name +\"(\"+feature_set_name+\")_5000.pt\",map_location=torch.device('cpu')))\n",
    "        test(test_loader, net, file_name)\n",
    "    elif feature_set_name == \"vec-unigram\":\n",
    "        input_dim, train_loader, val_loader, test_loader = load_vector_data(dataset_name)\n",
    "        net = Lin_Net(input_dim, output_dim, hidden_dim, num_hidden_layers)\n",
    "        net.load_state_dict(torch.load(\"../nets/net_lin_\" + dataset_name+\"_\"+feature_set_name +\"/net_lin_\" + dataset_name +\"(\"+feature_set_name+\")_5000.pt\",map_location=torch.device('cpu')))\n",
    "        test(test_loader, net, file_name)\n",
    "    elif feature_set_name == \"vec-bigram\":\n",
    "        input_dim, train_loader, val_loader, test_loader = load_vector_data(dataset_name, True)\n",
    "        net = Lin_Net(input_dim, output_dim, hidden_dim, num_hidden_layers)\n",
    "        net.load_state_dict(torch.load(\"../nets/net_lin_\" + dataset_name+\"_\"+feature_set_name +\"/net_lin_\" + dataset_name +\"(\"+feature_set_name+\")_5000.pt\",map_location=torch.device('cpu')))\n",
    "        test(test_loader, net, file_name)\n",
    "    else: \n",
    "        train_loader, val_loader, test_loader = load_lex_data(dataset_name, feature_set_name, feature_sets[dataset_name + \"_\" + feature_set_name], batch_size, split_factor)\n",
    "        net = Lin_Net(len(feature_sets[dataset_name + \"_\" + feature_set_name]), output_dim, hidden_dim, num_hidden_layers)\n",
    "        net.load_state_dict(torch.load(\"../nets/net_lin_\" + dataset_name+\"_\"+feature_set_name +\"/net_lin_\" + dataset_name +\"(\"+feature_set_name+\")_5000.pt\",map_location=torch.device('cpu')))\n",
    "        test(test_loader, net, file_name)\n",
    "        \n",
    "def draw_confusion_matrix(file_name, test_y, pred_y, f1_score): \n",
    "    fig = plt.figure()\n",
    "    hm = sn.heatmap(confusion_matrix(test_y, pred_y), fmt=\"d\", linewidth=0.5, annot=True, square=True, xticklabels=[\"h\", \"s\", \"a\", \"f\"], yticklabels=[\"h\", \"s\", \"a\", \"f\"], cmap=\"PuRd\")\n",
    "    ax1 = fig.add_axes(hm)\n",
    "    ax1.set(xlabel=\"predicted\", ylabel=\"target\")\n",
    "    desc = \"dataset: {}\".format(file_name)\n",
    "    #if feature_set_name == \"topics\": desc = \"dataset: {} ({}), trained with {} topics\\nscore: {}, f1_score: {}\".format(dataset_name, feature_set_name, num_topics, round(score,2), round(f1_scoore,2))\n",
    "    #else: desc = \"dataset: {} ({}) \\nscore: {}, f1_score: {}\".format(dataset_name, feature_set_name, round(score,2), round(f1_scoore,2)) \n",
    "    desc = \"dataset: {} ({}) \\nf1_score: {}\".format(dataset_name, feature_set_name, round(f1_score,2)) \n",
    "    fig.text(0.5, -0.1, desc, ha='center')\n",
    "    plt.show()\n",
    "    #fig.savefig(\"{}{}_{}\".format(\"../img/\", file_name, \"confusion.png\"), bbox_inches=\"tight\")\n",
    "    plt.close(fig)"
   ]
  },
  {
   "cell_type": "code",
   "execution_count": 118,
   "metadata": {},
   "outputs": [
    {
     "name": "stdout",
     "output_type": "stream",
     "text": [
      "running  net_lin_norm_emotion(full)\n",
      "loading lex data norm_emotion full\n",
      "testing\n",
      "0.5305809407686574\n"
     ]
    },
    {
     "data": {
      "image/png": "[encoded data removed]",
      "text/plain": [
       "<Figure size 432x288 with 2 Axes>"
      ]
     },
     "metadata": {
      "needs_background": "light"
     },
     "output_type": "display_data"
    }
   ],
   "source": [
    "num_topics_dict = {\n",
    "    \"norm_emotion\": 186,\n",
    "    \"norm_tweet\": 79,\n",
    "    \"norm_test\": 79\n",
    "}\n",
    "classes = [\"happiness\", \"sadness\", \"anger\", \"fear\"]\n",
    "feature_sets = {\n",
    "    \"norm_test_full\": [\"wc\", \"ewc\", \"cpc\", \"hc\", \"sc\", \"ac\", \"fc\"],\n",
    "    \"norm_test_lex\": [\"hc\", \"sc\", \"ac\", \"fc\"],\n",
    "    \"norm_emotion_full\": [\"wc\", \"ewc\", \"hc\", \"sc\", \"ac\", \"fc\"],\n",
    "    \"norm_emotion_lex\": [\"hc\", \"sc\", \"ac\", \"fc\"],\n",
    "    \"norm_tweet_full\": [\"wc\", \"ewc\", \"cpc\", \"hc\", \"sc\", \"ac\", \"fc\"],\n",
    "    \"norm_tweet_lex\": [\"hc\", \"sc\", \"ac\", \"fc\"]\n",
    "}\n",
    "cuda = torch.cuda.is_available()\n",
    "batch_size = 16\n",
    "epochs = 2500 + 1\n",
    "print_every = 125\n",
    "split_factor = 0.2\n",
    "output_dim = 4\n",
    "hidden_dim = 256\n",
    "num_hidden_layers = 2\n",
    "lr = 0.01\n",
    "\n",
    "dataset_name = \"norm_emotion\"\n",
    "feature_set_name = \"full\"\n",
    "\n",
    "run(dataset_name, feature_set_name)"
   ]
  },
  {
   "cell_type": "code",
   "execution_count": null,
   "metadata": {},
   "outputs": [],
   "source": []
  }
 ],
 "metadata": {
  "kernelspec": {
   "display_name": "Python 3",
   "language": "python",
   "name": "python3"
  },
  "language_info": {
   "codemirror_mode": {
    "name": "ipython",
    "version": 3
   },
   "file_extension": ".py",
   "mimetype": "text/x-python",
   "name": "python",
   "nbconvert_exporter": "python",
   "pygments_lexer": "ipython3",
   "version": "3.6.8"
  }
 },
 "nbformat": 4,
 "nbformat_minor": 2
}
