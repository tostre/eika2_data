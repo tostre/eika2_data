{
 "cells": [
  {
   "cell_type": "code",
   "execution_count": 1,
   "metadata": {},
   "outputs": [],
   "source": [
    "import pandas as pd\n",
    "import gensim.models\n",
    "import gensim.corpora\n",
    "import gensim as gs\n",
    "import pyLDAvis as pvis\n",
    "import pyLDAvis.gensim\n",
    "import gensim.models.coherencemodel\n",
    "import matplotlib.pyplot as plt"
   ]
  },
  {
   "cell_type": "code",
   "execution_count": 46,
   "metadata": {},
   "outputs": [],
   "source": [
    "def make_data(dataset_name):\n",
    "    print(\"loading vector data for\", dataset_name)\n",
    "    sentences = pd.read_csv(\"../cleaned/\" + dataset_name + \"_stems.csv\", delimiter=\",\").astype(str).values.tolist() \n",
    "    for index, sample in enumerate(sentences): \n",
    "            sentences[index] = list(filter((\" \").__ne__, sample))\n",
    "    #sentences_whole = [\" \".join(sentence) for sentence in sentences_split]\n",
    "    #tokens = [token for sentence in sentences_split for token in sentence]\n",
    "    dic = gs.corpora.Dictionary(sentences)\n",
    "    corpus = [dic.doc2bow(sample) for sample in sentences]\n",
    "    #print(\"--- sentences_split: \\n\", sentences_split, \"\\n\")\n",
    "    #print(\"--- sentences_whole: \\n\", sentences_whole, \"\\n\")\n",
    "    #print(\"--- tokens: \\n\", tokens, \"\\n\")\n",
    "    return sentences, dic, corpus\n",
    "\n",
    "def build_corpus(sentences_split):\n",
    "    \n",
    "    return dic, corpus\n",
    "\n",
    "def visualize_lda(model, corpus, dic):\n",
    "    pvis.enable_notebook()\n",
    "    vis = pvis.gensim.prepare(model, corpus, dic)\n",
    "    vis.show()\n",
    "\n",
    "def get_coherence_score(model, sentences, dic):\n",
    "    # the higher the better it is\n",
    "    # nutzen um versch. modelle zu vergleichen (mit untersch. topic-anzahö)\n",
    "    coherence_model_lda = gensim.models.coherencemodel.CoherenceModel(model=model, texts=sentences, dictionary=dic, coherence='c_v')\n",
    "    coherence_score = coherence_model_lda.get_coherence()\n",
    "    #print('\\nCoherence Score: ', coherence_lda)\n",
    "    return coherence_score\n",
    "\n",
    "def draw_plot(dataset_name, x, y, best_coherence, best_num_topics):\n",
    "    fig, ax = plt.subplots()\n",
    "    ax.plot(x, y)\n",
    "    ax.set(xlabel=\"num_topics\", ylabel=\"coherence\")\n",
    "    desc = \"dataset: {}\\nbest coherence: {}, with topics: {}\".format(dataset_name, best_coherence, best_num_topics)\n",
    "    fig.text(0.5, -0.07, desc, ha='center')\n",
    "    plt.grid()\n",
    "    plt.show()\n",
    "    fig.savefig(\"../img/num_topics_\" + dataset_name + \".png\", bbox_inches=\"tight\")\n",
    "    \n",
    "def find_best_topic_num(datasets, lim_low, lim_high): \n",
    "    coherences = []\n",
    "    models = []\n",
    "\n",
    "    for dataset_name in datasets:\n",
    "        sentences, dic, corpus = make_data(dataset_name)\n",
    "        for i in range(lim_low, lim_high):\n",
    "            print(\"... loop {} / {}\".format(i, lim_high))\n",
    "            lda_model = gensim.models.ldamodel.LdaModel(corpus=corpus, id2word=dic, num_topics=i, random_state=100,\n",
    "                                           update_every=1, chunksize=100, passes=10, per_word_topics=True)\n",
    "            models.append(lda_model)\n",
    "            coherences.append(get_coherence_score(lda_model, sentences, dic))\n",
    "        max_coherence_index = coherences.index(max(coherences))\n",
    "        draw_plot(dataset_name, range(lim_low, len(coherences)+lim_low), coherences, max(coherences), max_coherence_index+lim_low)\n",
    "        models[max_coherence_index].save(\"../models/tm_\" + dataset_name + \".model\")\n",
    "    "
   ]
  },
  {
   "cell_type": "code",
   "execution_count": 45,
   "metadata": {},
   "outputs": [
    {
     "name": "stdout",
     "output_type": "stream",
     "text": [
      "loading vector data for test\n"
     ]
    },
    {
     "data": {
      "image/png": "[encoded data removed]",
      "text/plain": [
       "<Figure size 432x288 with 1 Axes>"
      ]
     },
     "metadata": {
      "needs_background": "light"
     },
     "output_type": "display_data"
    }
   ],
   "source": [
    "# https://www.machinelearningplus.com/nlp/topic-modeling-gensim-python/\n",
    "# topic 0 is represented as '0.072*\"112\" + 0.037*\"believ\" + 0.037*\"say\" + 0.037*\"big\" + 0.037*\"ass\" + 0.037*\"album\" + 0.037*\"simp\" + 0.037*\"loos\" + 0.037*\"face\" + 0.037*\"biggest\"')\n",
    "# these are the top 10 keywords that contribute to this topic\n",
    "# The weights reflect how important a keyword is to that topic\n",
    "# usually one cand find a name for the topic (has to look at the keywords manually)\n",
    "\n",
    "datasets = [\"test\"]\n",
    "find_best_topic_num(datasets, 10, 100)\n",
    "\n",
    "    \n",
    "    \n",
    "   \n"
   ]
  },
  {
   "cell_type": "code",
   "execution_count": null,
   "metadata": {},
   "outputs": [],
   "source": [
    "# trainings, testdaten speichern\n",
    "# für jeden datensatz ein model speichern\n",
    "    # iterieren mit unterschiedlicher topic-anzahl\n",
    "    \n",
    "# gucken welche topic-ids mit den vier Klassen übereinstimmen\n",
    "    # vlt die wörter der klasse in den lexika suchen? score ausrechnen (wörter in lexikon/länge der topic-wörter?)\n",
    "    # das aber nur zusätzlich zum manuellen machen\n",
    "    \n",
    "# testdaten laufen lassen\n",
    "    # gucken welches die höchste topic-id ist\n",
    "    # schauen ob sie der id entspricht die ich oben aufgestellt habe und klassifikation danach machen\n",
    "    # confusion matrix etc berechnen\n",
    "\n",
    "# für jeden unbekannten satz den ich eingebe:\n",
    "    # in bow umrechnen\n",
    "    # topic-scores der vier klassen berechhnen\n",
    "    # klassifizieren\n",
    "    \n",
    "# den kram aufschreiben :("
   ]
  },
  {
   "cell_type": "code",
   "execution_count": null,
   "metadata": {},
   "outputs": [],
   "source": [
    "# show the first 10 topics\n",
    "#print(lda_model.show_topics(num_topics=10))\n",
    "# show all tokens that are part of a topic (only the top 2 words)\n",
    "#print(lda_model.get_topic_terms(topicid=0, topn=2))\n",
    "# get the word for a id in the dic\n",
    "#print(id2word[143])\n",
    "# print corpus\n",
    "#print(corpus[:1])\n",
    "# print corpus but with names, not with ids\n",
    "#print([[(id2word[id], freq) for id, freq in cp] for cp in corpus[:1]])\n",
    "#visualize_lda(lda_model, corpus, dic)\n",
    "#lda_model.save(\"location.model\")"
   ]
  },
  {
   "cell_type": "code",
   "execution_count": 82,
   "metadata": {},
   "outputs": [],
   "source": [
    "#pvis.enable_notebook()\n",
    "#vis = pvis.gensim.prepare(lda_model, corpus, dic)\n",
    "#vis"
   ]
  },
  {
   "cell_type": "code",
   "execution_count": null,
   "metadata": {},
   "outputs": [],
   "source": []
  },
  {
   "cell_type": "code",
   "execution_count": 81,
   "metadata": {},
   "outputs": [
    {
     "name": "stdout",
     "output_type": "stream",
     "text": [
      "[[(0, 1), (1, 1), (2, 1)]]\n",
      "[(0, 1), (1, 1), (2, 1)]\n",
      "[(0, 0.012500053), (1, 0.762499), (2, 0.012500053), (3, 0.012500053), (4, 0.012500053), (5, 0.012500053), (6, 0.012500053), (7, 0.012500053), (8, 0.012500053), (9, 0.012500053), (10, 0.012500053), (11, 0.012500053), (12, 0.012500053), (13, 0.012500053), (14, 0.012500053), (15, 0.012500053), (16, 0.012500053), (17, 0.012500053), (18, 0.012500053), (19, 0.012500053)]\n",
      "(0, 0.012500053)\n",
      "(1, 0.762499)\n",
      "(2, 0.012500053)\n",
      "(3, 0.012500053)\n",
      "(4, 0.012500053)\n",
      "(5, 0.012500053)\n",
      "(6, 0.012500053)\n",
      "(7, 0.012500053)\n",
      "(8, 0.012500053)\n",
      "(9, 0.012500053)\n",
      "(10, 0.012500053)\n",
      "(11, 0.012500053)\n",
      "(12, 0.012500053)\n",
      "(13, 0.012500053)\n",
      "(14, 0.012500053)\n",
      "(15, 0.012500053)\n",
      "(16, 0.012500053)\n",
      "(17, 0.012500053)\n",
      "(18, 0.012500053)\n",
      "(19, 0.012500053)\n"
     ]
    }
   ],
   "source": [
    "new_doc = [dic.doc2bow(sample) for sample in sentences_split[:1]]\n",
    "# ein neues doc muss ein satz sein (also eine liste)\n",
    "new_doc2 = dic.doc2bow(*sentences_split[:1])\n",
    "print(new_doc)\n",
    "print(new_doc2)\n",
    "# get topics from a new document (fremd am besten)\n",
    "top = lda_model.get_document_topics(new_doc, minimum_probability=None, minimum_phi_value=None, per_word_topics=False)\n",
    "top2 = lda_model.get_document_topics(new_doc2, minimum_probability=None, minimum_phi_value=None, per_word_topics=False)\n",
    "# zeige alle topics in dem document\n",
    "for i, x in enumerate(top):\n",
    "    print(x)\n",
    "for i, x in enumerate(top2):\n",
    "    print(x)"
   ]
  },
  {
   "cell_type": "code",
   "execution_count": null,
   "metadata": {},
   "outputs": [],
   "source": []
  }
 ],
 "metadata": {
  "kernelspec": {
   "display_name": "Python 3",
   "language": "python",
   "name": "python3"
  },
  "language_info": {
   "codemirror_mode": {
    "name": "ipython",
    "version": 3
   },
   "file_extension": ".py",
   "mimetype": "text/x-python",
   "name": "python",
   "nbconvert_exporter": "python",
   "pygments_lexer": "ipython3",
   "version": "3.6.8"
  }
 },
 "nbformat": 4,
 "nbformat_minor": 2
}
