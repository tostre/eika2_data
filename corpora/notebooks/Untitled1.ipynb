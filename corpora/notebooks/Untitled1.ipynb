{
 "cells": [
  {
   "cell_type": "code",
   "execution_count": 2,
   "metadata": {},
   "outputs": [],
   "source": [
    "from gensim.models.phrases import Phrases, Phraser\n",
    "import pandas as pd"
   ]
  },
  {
   "cell_type": "code",
   "execution_count": 34,
   "metadata": {},
   "outputs": [],
   "source": [
    "dataset = pd.read_csv(\"../cleaned/norm_tweet_clean.csv\")[\"t\"].tolist()"
   ]
  },
  {
   "cell_type": "code",
   "execution_count": 42,
   "metadata": {},
   "outputs": [],
   "source": [
    "# tokenize\n",
    "tokenized = [t.split() for t in sentences]\n",
    "phrases = Phrases(tokenized)\n",
    "# bigram ist ein modell das oft zusammenstehende wörter zusammenklebt (new, york = new_york, ice, cream = ice_cream)\n",
    "bigram = Phraser(phrases)"
   ]
  },
  {
   "cell_type": "code",
   "execution_count": 59,
   "metadata": {},
   "outputs": [],
   "source": [
    "bigrammed = []\n",
    "for sentence in dataset:\n",
    "    sentence = [t.split() for t in [sentence]]\n",
    "    #print(\"-->\",sentence)\n",
    "    #print(sentence[0])\n",
    "    #print(bigram[sentence[0]],\"\\n\")\n",
    "    bigrammed.append(bigram[sentence[0]])"
   ]
  },
  {
   "cell_type": "code",
   "execution_count": 60,
   "metadata": {},
   "outputs": [],
   "source": [
    "df = pd.DataFrame.from_records(bigrammed)"
   ]
  },
  {
   "cell_type": "code",
   "execution_count": 61,
   "metadata": {},
   "outputs": [
    {
     "name": "stdout",
     "output_type": "stream",
     "text": [
      "       0        1          2       3        4         5             6   \\\n",
      "0   typos    today          .  Better    stick     hands  refrigerator   \n",
      "1    time    weeks          ,   house        .       cry             .   \n",
      "2  Family   fights    morning  school        .         .             .   \n",
      "3    Work        7    morning       .   Barely     going           bed   \n",
      "4      Fk       tv    annoyin     -_-     like     lower          hear   \n",
      "5  buying  awesome        new   phone     sony  ericsson             -   \n",
      "6     bet      dat        dog  eating    brand  cheerios             .   \n",
      "7   Right     need  breakfast       .      Let  Tweeting           ;-)   \n",
      "8  Cheers      Dec        1st       !  finally      real        butter   \n",
      "9  mozart  requiem    tonight    None     None      None          None   \n",
      "\n",
      "         7       8      9   ...    65    66    67    68    69    70    71  \\\n",
      "0      warm       .   None  ...  None  None  None  None  None  None  None   \n",
      "1      None    None   None  ...  None  None  None  None  None  None  None   \n",
      "2      None    None   None  ...  None  None  None  None  None  None  None   \n",
      "3         .    None   None  ...  None  None  None  None  None  None  None   \n",
      "4     night    nono  wants  ...  None  None  None  None  None  None  None   \n",
      "5   Berry'd    like      .  ...  None  None  None  None  None  None  None   \n",
      "6        nt  relate      .  ...  None  None  None  None  None  None  None   \n",
      "7  thinking       ,  bloke  ...  None  None  None  None  None  None  None   \n",
      "8    fridge       ,    eat  ...  None  None  None  None  None  None  None   \n",
      "9      None    None   None  ...  None  None  None  None  None  None  None   \n",
      "\n",
      "     72    73    74  \n",
      "0  None  None  None  \n",
      "1  None  None  None  \n",
      "2  None  None  None  \n",
      "3  None  None  None  \n",
      "4  None  None  None  \n",
      "5  None  None  None  \n",
      "6  None  None  None  \n",
      "7  None  None  None  \n",
      "8  None  None  None  \n",
      "9  None  None  None  \n",
      "\n",
      "[10 rows x 75 columns]\n"
     ]
    }
   ],
   "source": [
    "print(df[:10])"
   ]
  },
  {
   "cell_type": "code",
   "execution_count": 48,
   "metadata": {},
   "outputs": [
    {
     "name": "stdout",
     "output_type": "stream",
     "text": [
      "['I', 'am', 'the', 'mayor', 'of', 'New', 'York'] -> ['I', 'am', 'the', 'mayor', 'of', 'New', 'York']\n"
     ]
    }
   ],
   "source": [
    "sent = [\"I am the mayor of New York\"]\n",
    "sent = [t.split() for t in sent]\n",
    "sent = sent[0]\n",
    "\n",
    "print(sent, \"->\", bigram[sent])"
   ]
  },
  {
   "cell_type": "code",
   "execution_count": 39,
   "metadata": {},
   "outputs": [
    {
     "name": "stdout",
     "output_type": "stream",
     "text": [
      "I\n",
      "a m\n",
      "t h e\n",
      "m a y o r\n",
      "o f\n",
      "N e w\n",
      "Y o r k\n"
     ]
    }
   ],
   "source": []
  },
  {
   "cell_type": "code",
   "execution_count": null,
   "metadata": {},
   "outputs": [],
   "source": []
  }
 ],
 "metadata": {
  "kernelspec": {
   "display_name": "Python 3",
   "language": "python",
   "name": "python3"
  },
  "language_info": {
   "codemirror_mode": {
    "name": "ipython",
    "version": 3
   },
   "file_extension": ".py",
   "mimetype": "text/x-python",
   "name": "python",
   "nbconvert_exporter": "python",
   "pygments_lexer": "ipython3",
   "version": "3.6.8"
  }
 },
 "nbformat": 4,
 "nbformat_minor": 2
}
