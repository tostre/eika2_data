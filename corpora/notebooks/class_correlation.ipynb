{
 "cells": [
  {
   "cell_type": "code",
   "execution_count": 13,
   "metadata": {},
   "outputs": [
    {
     "name": "stdout",
     "output_type": "stream",
     "text": [
      "(362355, 9)\n",
      "(17225, 9)\n"
     ]
    }
   ],
   "source": [
    "import pandas as pd\n",
    "import numpy as np\n",
    "import scipy as sp\n",
    "from scipy.stats.stats import pearsonr\n",
    "import matplotlib\n",
    "import matplotlib.pyplot as plt\n",
    "%matplotlib inline\n",
    "\n",
    "col = [\"wc\",\"uwc\",\"ewc\",\"hc\",\"sc\",\"ac\",\"fc\",\"cpc\",\"a\"]\n",
    "\n",
    "emotion_datasets = [\"emotion_classification_1_clean.csv\", \"emotion_classification_2_clean.csv\", \"emotion_classification_3_clean.csv\", \"emotion_classification_4_clean.csv\", \"emotion_classification_5_clean.csv\", \"emotion_classification_6_clean.csv\", \"emotion_classification_7_clean.csv\", \"emotion_classification_8_clean.csv\"]\n",
    "emotion_data = []\n",
    "for f in emotion_datasets:\n",
    "    emotion_data.append(pd.read_csv(f))\n",
    "emotion_data = pd.concat(emotion_data, axis=0, ignore_index=True)\n",
    "emotion_data = emotion_data[['word_count', 'upper_word_count', 'ent_word_count', 'h_count', \"s_count\", \"a_count\", \"f_count\", \"cons_punct_count\", \"affect\"]]\n",
    "\n",
    "tweet_datasets = [\"crowdflower_clean.csv\", \"emoint_clean.csv\", \"tec_clean.csv\"]\n",
    "tweet_data = []\n",
    "for f in tweet_datasets:\n",
    "    d = pd.read_csv(f)\n",
    "    tweet_data.append(pd.read_csv(f))\n",
    "tweet_data = pd.concat(tweet_data, axis=0, ignore_index=True)\n",
    "tweet_data = tweet_data[['word_count', 'upper_word_count', 'ent_word_count', 'h_count', \"s_count\", \"a_count\", \"f_count\", \"cons_punct_count\", \"affect\"]]\n",
    "\n",
    "\n",
    "datasets = [emotion_data, tweet_data]\n",
    "\n",
    "print(datasets[0].shape)\n",
    "print(datasets[1].shape)"
   ]
  },
  {
   "cell_type": "code",
   "execution_count": 21,
   "metadata": {},
   "outputs": [
    {
     "name": "stdout",
     "output_type": "stream",
     "text": [
      "--> 0 (9, 9) \n",
      " [[ 1.       nan  0.018  0.363  0.188    nan  0.143    nan -0.017]\n",
      " [   nan    nan    nan    nan    nan    nan    nan    nan    nan]\n",
      " [ 0.018    nan  1.    -0.011 -0.03     nan -0.019    nan -0.029]\n",
      " [ 0.363    nan -0.011  1.    -0.03     nan -0.017    nan -0.269]\n",
      " [ 0.188    nan -0.03  -0.03   1.       nan  0.045    nan  0.146]\n",
      " [   nan    nan    nan    nan    nan    nan    nan    nan    nan]\n",
      " [ 0.143    nan -0.019 -0.017  0.045    nan  1.       nan  0.254]\n",
      " [   nan    nan    nan    nan    nan    nan    nan    nan    nan]\n",
      " [-0.017    nan -0.029 -0.269  0.146    nan  0.254    nan  1.   ]]\n"
     ]
    },
    {
     "data": {
      "image/png": "[encoded data removed]",
      "text/plain": [
       "<Figure size 288x288 with 2 Axes>"
      ]
     },
     "metadata": {
      "needs_background": "light"
     },
     "output_type": "display_data"
    },
    {
     "name": "stdout",
     "output_type": "stream",
     "text": [
      "--> 1 (9, 9) \n",
      " [[ 1.     0.046 -0.15   0.283  0.155    nan  0.111  0.176  0.095]\n",
      " [ 0.046  1.    -0.031 -0.004  0.02     nan -0.004  0.044  0.043]\n",
      " [-0.15  -0.031  1.    -0.032 -0.105    nan -0.068 -0.031 -0.165]\n",
      " [ 0.283 -0.004 -0.032  1.    -0.05     nan -0.027  0.026 -0.179]\n",
      " [ 0.155  0.02  -0.105 -0.05   1.       nan  0.025  0.002  0.201]\n",
      " [   nan    nan    nan    nan    nan    nan    nan    nan    nan]\n",
      " [ 0.111 -0.004 -0.068 -0.027  0.025    nan  1.    -0.019  0.231]\n",
      " [ 0.176  0.044 -0.031  0.026  0.002    nan -0.019  1.    -0.022]\n",
      " [ 0.095  0.043 -0.165 -0.179  0.201    nan  0.231 -0.022  1.   ]]\n"
     ]
    },
    {
     "data": {
      "image/png": "[encoded data removed]",
      "text/plain": [
       "<Figure size 288x288 with 2 Axes>"
      ]
     },
     "metadata": {
      "needs_background": "light"
     },
     "output_type": "display_data"
    }
   ],
   "source": [
    "for i, dataset in enumerate(datasets):\n",
    "    word_count = dataset[\"wc\"].tolist()\n",
    "    upper_word_count = dataset[\"uwc\"].tolist()\n",
    "    ent_word_count = dataset[\"ewc\"].tolist()\n",
    "    h_count = dataset[\"hc\"].tolist()\n",
    "    s_count = dataset[\"sc\"].tolist()\n",
    "    a_count = dataset[\"ac\"].tolist()\n",
    "    f_count = dataset[\"fc\"].tolist()\n",
    "    cons_punct_count = dataset[\"cpc\"].tolist()\n",
    "    affect = dataset[\"a\"].tolist()\n",
    "\n",
    "    corr = np.round(np.corrcoef([word_count, upper_word_count, ent_word_count, h_count, s_count, a_count, f_count, cons_punct_count, affect]), 3)\n",
    "    print(\"-->\", i, corr.shape, \"\\n\", corr)\n",
    "\n",
    "    dataset.columns = col\n",
    "    \n",
    "    plt.matshow(dataset.corr())\n",
    "    plt.xticks(range(len(dataset.columns)), dataset.columns)\n",
    "    plt.yticks(range(len(dataset.columns)), dataset.columns)\n",
    "    plt.xticks(rotation=90)\n",
    "    plt.colorbar()\n",
    "    plt.show()"
   ]
  },
  {
   "cell_type": "code",
   "execution_count": 27,
   "metadata": {},
   "outputs": [
    {
     "name": "stdout",
     "output_type": "stream",
     "text": [
      "--> 0 (12, 12) \n",
      " [[ 1.       nan  0.018  0.363  0.188    nan  0.143    nan  0.034 -0.034\n",
      "   0.001 -0.003]\n",
      " [   nan    nan    nan    nan    nan    nan    nan    nan    nan    nan\n",
      "     nan    nan]\n",
      " [ 0.018    nan  1.    -0.011 -0.03     nan -0.019    nan  0.023  0.\n",
      "  -0.011 -0.021]\n",
      " [ 0.363    nan -0.011  1.    -0.03     nan -0.017    nan  0.324 -0.164\n",
      "  -0.114 -0.116]\n",
      " [ 0.188    nan -0.03  -0.03   1.       nan  0.045    nan -0.315  0.321\n",
      "   0.019 -0.014]\n",
      " [   nan    nan    nan    nan    nan    nan    nan    nan    nan    nan\n",
      "     nan    nan]\n",
      " [ 0.143    nan -0.019 -0.017  0.045    nan  1.       nan -0.156 -0.034\n",
      "  -0.006  0.279]\n",
      " [   nan    nan    nan    nan    nan    nan    nan    nan    nan    nan\n",
      "     nan    nan]\n",
      " [ 0.034    nan  0.023  0.324 -0.315    nan -0.156    nan  1.    -0.552\n",
      "  -0.339 -0.305]\n",
      " [-0.034    nan  0.    -0.164  0.321    nan -0.034    nan -0.552  1.\n",
      "  -0.303 -0.272]\n",
      " [ 0.001    nan -0.011 -0.114  0.019    nan -0.006    nan -0.339 -0.303\n",
      "   1.    -0.167]\n",
      " [-0.003    nan -0.021 -0.116 -0.014    nan  0.279    nan -0.305 -0.272\n",
      "  -0.167  1.   ]]\n"
     ]
    },
    {
     "data": {
      "image/png": "[encoded data removed]",
      "text/plain": [
       "<Figure size 288x288 with 2 Axes>"
      ]
     },
     "metadata": {
      "needs_background": "light"
     },
     "output_type": "display_data"
    },
    {
     "name": "stdout",
     "output_type": "stream",
     "text": [
      "--> 1 (12, 12) \n",
      " [[ 1.     0.046 -0.15   0.283  0.155    nan  0.111  0.176 -0.062 -0.017\n",
      "   0.055  0.076]\n",
      " [ 0.046  1.    -0.031 -0.004  0.02     nan -0.004  0.044 -0.055  0.028\n",
      "   0.051  0.001]\n",
      " [-0.15  -0.031  1.    -0.032 -0.105    nan -0.068 -0.031  0.169 -0.073\n",
      "  -0.085 -0.086]\n",
      " [ 0.283 -0.004 -0.032  1.    -0.05     nan -0.027  0.026  0.215 -0.134\n",
      "  -0.078 -0.074]\n",
      " [ 0.155  0.02  -0.105 -0.05   1.       nan  0.025  0.002 -0.254  0.187\n",
      "   0.029  0.1  ]\n",
      " [   nan    nan    nan    nan    nan    nan    nan    nan    nan    nan\n",
      "     nan    nan]\n",
      " [ 0.111 -0.004 -0.068 -0.027  0.025    nan  1.    -0.019 -0.122 -0.071\n",
      "   0.082  0.231]\n",
      " [ 0.176  0.044 -0.031  0.026  0.002    nan -0.019  1.    -0.007  0.041\n",
      "  -0.022 -0.031]\n",
      " [-0.062 -0.055  0.169  0.215 -0.254    nan -0.122 -0.007  1.    -0.671\n",
      "  -0.294 -0.331]\n",
      " [-0.017  0.028 -0.073 -0.134  0.187    nan -0.071  0.041 -0.671  1.\n",
      "  -0.214 -0.241]\n",
      " [ 0.055  0.051 -0.085 -0.078  0.029    nan  0.082 -0.022 -0.294 -0.214\n",
      "   1.    -0.106]\n",
      " [ 0.076  0.001 -0.086 -0.074  0.1      nan  0.231 -0.031 -0.331 -0.241\n",
      "  -0.106  1.   ]]\n"
     ]
    },
    {
     "data": {
      "image/png": "[encoded data removed]",
      "text/plain": [
       "<Figure size 288x288 with 2 Axes>"
      ]
     },
     "metadata": {
      "needs_background": "light"
     },
     "output_type": "display_data"
    }
   ],
   "source": [
    "dataset2 = dataset.copy()\n",
    "for i, dataset in enumerate(datasets):\n",
    "   \n",
    "    word_count = dataset[\"wc\"].tolist()\n",
    "    upper_word_count = dataset[\"uwc\"].tolist()\n",
    "    ent_word_count = dataset[\"ewc\"].tolist()\n",
    "    h_count = dataset[\"hc\"].tolist()\n",
    "    s_count = dataset[\"sc\"].tolist()\n",
    "    a_count = dataset[\"ac\"].tolist()\n",
    "    f_count = dataset[\"fc\"].tolist()\n",
    "    cons_punct_count = dataset[\"cpc\"].tolist()\n",
    "    affect = dataset[\"a\"].tolist()\n",
    "    \n",
    "    hh, ss, aa, ff = [], [], [], []\n",
    "    for element in affect: \n",
    "        if element == 0:\n",
    "            hh.append(1)\n",
    "            ss.append(0)\n",
    "            aa.append(0)\n",
    "            ff.append(0)\n",
    "        elif element == 1: \n",
    "            hh.append(0)\n",
    "            ss.append(1)\n",
    "            aa.append(0)\n",
    "            ff.append(0)\n",
    "        elif element == 2: \n",
    "            hh.append(0)\n",
    "            ss.append(0)\n",
    "            aa.append(1)\n",
    "            ff.append(0)\n",
    "        elif element == 3: \n",
    "            hh.append(0)\n",
    "            ss.append(0)\n",
    "            aa.append(0)\n",
    "            ff.append(1)\n",
    "    \n",
    "    dataset[\"hh\"] = hh\n",
    "    dataset[\"ss\"] = ss\n",
    "    dataset[\"aa\"] = aa\n",
    "    dataset[\"ff\"] = ff\n",
    "   \n",
    "    corr = np.round(np.corrcoef([word_count, upper_word_count, ent_word_count, h_count, s_count, a_count, f_count, cons_punct_count, hh, ss, aa, ff]), 3)\n",
    "    print(\"-->\", i, corr.shape, \"\\n\", corr)\n",
    "    \n",
    "    \n",
    "    dataset.columns = [\"wc\",\"uwc\",\"ewc\",\"hc\",\"sc\",\"ac\",\"fc\",\"cpc\",\"a\", \"hh\", \"ss\", \"aa\", \"ff\"]\n",
    "   \n",
    "    plt.matshow(dataset.corr())\n",
    "    plt.xticks(range(len(dataset.columns)), dataset.columns)\n",
    "    plt.yticks(range(len(dataset.columns)), dataset.columns)\n",
    "    plt.xticks(rotation=90)\n",
    "    plt.colorbar()\n",
    "    plt.show()"
   ]
  },
  {
   "cell_type": "code",
   "execution_count": null,
   "metadata": {},
   "outputs": [],
   "source": []
  }
 ],
 "metadata": {
  "kernelspec": {
   "display_name": "Python 3",
   "language": "python",
   "name": "python3"
  },
  "language_info": {
   "codemirror_mode": {
    "name": "ipython",
    "version": 3
   },
   "file_extension": ".py",
   "mimetype": "text/x-python",
   "name": "python",
   "nbconvert_exporter": "python",
   "pygments_lexer": "ipython3",
   "version": "3.6.8"
  }
 },
 "nbformat": 4,
 "nbformat_minor": 2
}
