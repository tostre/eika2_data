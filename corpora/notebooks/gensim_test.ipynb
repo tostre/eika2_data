{
 "cells": [
  {
   "cell_type": "code",
   "execution_count": 38,
   "metadata": {},
   "outputs": [],
   "source": [
    "from gensim.test.utils import common_texts  # some example sentences\n",
    "from gensim.models import FastText\n",
    "from gensim.corpora.csvcorpus import CsvCorpus\n",
    "from gensim.models.word2vec import LineSentence\n",
    "import pandas as pd\n",
    "from gensim import corpora\n",
    "from pprint import pprint\n",
    "from gensim.models.fasttext import load_facebook_model\n",
    "from sklearn.model_selection import train_test_split\n",
    "from sklearn.ensemble import RandomForestClassifier\n",
    "from sklearn.metrics import f1_score\n",
    "import matplotlib.pyplot as plt\n",
    "from sklearn.metrics import confusion_matrix\n",
    "import seaborn as sn"
   ]
  },
  {
   "cell_type": "code",
   "execution_count": 2,
   "metadata": {},
   "outputs": [
    {
     "ename": "NameError",
     "evalue": "name 'model' is not defined",
     "output_type": "error",
     "traceback": [
      "\u001b[0;31m---------------------------------------------------------------------------\u001b[0m",
      "\u001b[0;31mNameError\u001b[0m                                 Traceback (most recent call last)",
      "\u001b[0;32m<ipython-input-2-25cf7549da13>\u001b[0m in \u001b[0;36m<module>\u001b[0;34m\u001b[0m\n\u001b[1;32m      2\u001b[0m \u001b[0mtest_model\u001b[0m\u001b[0;34m.\u001b[0m\u001b[0mbuild_vocab\u001b[0m\u001b[0;34m(\u001b[0m\u001b[0msentences\u001b[0m\u001b[0;34m=\u001b[0m\u001b[0mcommon_texts\u001b[0m\u001b[0;34m)\u001b[0m\u001b[0;34m\u001b[0m\u001b[0;34m\u001b[0m\u001b[0m\n\u001b[1;32m      3\u001b[0m \u001b[0mtest_model\u001b[0m\u001b[0;34m.\u001b[0m\u001b[0mtrain\u001b[0m\u001b[0;34m(\u001b[0m\u001b[0msentences\u001b[0m\u001b[0;34m=\u001b[0m\u001b[0mcommon_texts\u001b[0m\u001b[0;34m,\u001b[0m \u001b[0mtotal_examples\u001b[0m\u001b[0;34m=\u001b[0m\u001b[0mlen\u001b[0m\u001b[0;34m(\u001b[0m\u001b[0mcommon_texts\u001b[0m\u001b[0;34m)\u001b[0m\u001b[0;34m,\u001b[0m \u001b[0mepochs\u001b[0m\u001b[0;34m=\u001b[0m\u001b[0;36m10\u001b[0m\u001b[0;34m)\u001b[0m  \u001b[0;31m# train\u001b[0m\u001b[0;34m\u001b[0m\u001b[0;34m\u001b[0m\u001b[0m\n\u001b[0;32m----> 4\u001b[0;31m \u001b[0mmodel\u001b[0m\u001b[0;34m.\u001b[0m\u001b[0mwv\u001b[0m\u001b[0;34m[\u001b[0m\u001b[0;34m\"computer\"\u001b[0m\u001b[0;34m]\u001b[0m\u001b[0;34m\u001b[0m\u001b[0;34m\u001b[0m\u001b[0m\n\u001b[0m",
      "\u001b[0;31mNameError\u001b[0m: name 'model' is not defined"
     ]
    }
   ],
   "source": [
    "test_model = FastText(size=4, window=3, min_count=1) \n",
    "test_model.build_vocab(sentences=common_texts)\n",
    "test_model.train(sentences=common_texts, total_examples=len(common_texts), epochs=10)  # train\n",
    "test_model.wv[\"computer\"]"
   ]
  },
  {
   "cell_type": "code",
   "execution_count": 5,
   "metadata": {},
   "outputs": [],
   "source": [
    "dataset = pd.read_csv(\"../cleaned/test_clean.csv\", delimiter=\",\")[\"t\"].tolist()\n",
    "sentences = [sentence.split() for sentence in dataset]\n",
    "words = [word.lower() for sentence in sentences for word in sentence]\n",
    "#print(sentences)\n",
    "\n",
    "#print(words)\n",
    "# build a dictionary, must be a list in a list !! creating dictionary makes some words uppercase\n",
    "dictionary = corpora.Dictionary([words])\n",
    "#for k, v in word_dictionary.token2id.items():\n",
    "#    print(f'{k:{15}} {v:{10}}')\n",
    "# get id for word in dictionary\n",
    "#    print(dictionary.token2id[\"dragons\"])\n",
    "# how often does the token with this id is in the documents\n",
    "#    print(dictionary.cfs[11])\n",
    "# add more documents to the dictionary\n",
    "#    dictionary.add_documents([[\"cat\", \"say\", \"meow\"], [\"dog\"]])\n",
    "# make bag-of-words-dictionary: tuple (id_of_word, number_of_occurence_of_word_in_document)\n",
    "#    bow_corpus = [dictionary.doc2bow(word, allow_update=True) for word in [words]]\n",
    "#    print(bow_corpus)\n",
    "\n",
    "# build model over sentences (size=dimension of word vectors)\n",
    "test_model_2 = FastText(size=4, window=3, min_count=1)\n",
    "test_model_2.build_vocab(sentences)  # scan over corpus to build the vocabulary\n",
    "test_model_2.train(sentences=sentences, total_examples=len(sentences), total_words=test_model_2.corpus_total_words, epochs=5)"
   ]
  },
  {
   "cell_type": "code",
   "execution_count": 8,
   "metadata": {},
   "outputs": [
    {
     "name": "stderr",
     "output_type": "stream",
     "text": [
      "/home/marcel/.local/lib/python3.6/site-packages/gensim/models/keyedvectors.py:877: FutureWarning: arrays to stack must be passed as a \"sequence\" type such as list or tuple. Support for non-sequence iterables such as generators is deprecated as of NumPy 1.16 and will raise an error in the future.\n",
      "  vectors = vstack(self.word_vec(word, use_norm=True) for word in used_words).astype(REAL)\n"
     ]
    }
   ],
   "source": [
    "# check if word is in vocab\n",
    "in_vocab_word = \"resentment\"\n",
    "out_vocab_word = \"computer\"\n",
    "#print(in_vocab_word in model3.wv.vocab)\n",
    "#print(out_vocab_word in model3.wv.vocab)\n",
    "# get word vectors\n",
    "#print(model3.wv[in_vocab_word])\n",
    "#print(model3.wv[out_vocab_word])\n",
    "\n",
    "# find similar words, \n",
    "similarities = test_model_2.wv.most_similar(positive=['destroyer'], negative=['resentment']) # sttt most_similar get auch most_similar_cosmul\n",
    "#print(similarities) # first entry in list is the most similar \n",
    "# see what word in a list doesnt fit with the others\n",
    "not_matching = test_model_2.wv.doesnt_match([\"human\", \"computer\", \"interface\", \"tree\"])\n",
    "#print(not_matching)\n",
    "# get similarity score, from 0 to 1\n",
    "sim_score = test_model_2.wv.similarity('computer', 'human')\n",
    "#print(sim_score)\n",
    "\n",
    "# man kann hiermit auch vektoren für ganze sätze generieren\n",
    "#print(model3.wv[\"hello\"])\n",
    "#print(model3.wv[\"hello my friend\"])"
   ]
  },
  {
   "cell_type": "code",
   "execution_count": 10,
   "metadata": {},
   "outputs": [],
   "source": [
    "dataset = pd.read_csv(\"../cleaned/tweet_stems.csv\", delimiter=\",\").astype(str)\n",
    "sentences2 = dataset.values.tolist()\n",
    "\n",
    "# remove placeholder\n",
    "for index, sentence in enumerate(sentences2): \n",
    "        sentences2[index] = list(filter((\"__\").__ne__, sentence))\n",
    "\n",
    "# build model over sentences (size=dimension of word vectors)\n",
    "log_model = FastText(size=8, window=3, min_count=1)\n",
    "log_model.build_vocab(sentences2)  # scan over corpus to build the vocabulary\n",
    "log_model.train(sentences=sentences2, total_examples=len(sentences), total_words=log_model.corpus_total_words, epochs=5)"
   ]
  },
  {
   "cell_type": "code",
   "execution_count": 40,
   "metadata": {},
   "outputs": [],
   "source": [
    "def make_data(dataset_name):\n",
    "    affect_mapping = {\"happiness\": 0, \"sadness\": 1, \"anger\": 2, \"fear\": 3, \"disgust\": 4}\n",
    "    sentences = pd.read_csv(\"../cleaned/\" + dataset_name + \"_stems.csv\", delimiter=\",\").values.tolist()\n",
    "    targets = pd.read_csv(\"../cleaned/\" + dataset_name + \"_clean.csv\", delimiter=\",\")[\"a\"].tolist()  \n",
    "    # remove placeholder, map affect to number\n",
    "    for index, sample in enumerate(sentences): \n",
    "            sentences[index] = list(filter((\"__\").__ne__, sample))\n",
    "    targets = [affect_mapping[affect] for affect in targets]\n",
    "    # make one-string-sentences\n",
    "    inputs = [\" \".join(sentence) for sentence in sentences]\n",
    "    \n",
    "    # build model over sentences (size=dimension of word vectors)\n",
    "    model = FastText(size=16, window=3, min_count=1)\n",
    "    model.build_vocab(inputs)  \n",
    "    model.train(sentences=inputs, total_examples=len(inputs), total_words=model.corpus_total_words, epochs=5)\n",
    "    # convert sentences to vectors\n",
    "    inputs = [model.wv[sample] for sample in inputs]\n",
    "    \n",
    "    # split data and return\n",
    "    train_x, test_x, train_y, test_y = train_test_split(inputs, targets, test_size=0.2)\n",
    "    return train_x, test_x, train_y, test_y    \n",
    "    \n",
    "train_x, test_x, train_y, test_y = make_data(\"test\")"
   ]
  },
  {
   "cell_type": "code",
   "execution_count": 39,
   "metadata": {},
   "outputs": [
    {
     "name": "stdout",
     "output_type": "stream",
     "text": [
      "trees: 50\tscore:  1.0\n",
      "...feature importance [0.05605698 0.0451601  0.08297177 0.06025502 0.04350893 0.0676476\n",
      " 0.02889393 0.07304336 0.07743617 0.10955989 0.03650654 0.1159834\n",
      " 0.05886038 0.05300971 0.02283425 0.06827197]\n",
      "weighted f1_score:  0.2571428571428571\n"
     ]
    },
    {
     "name": "stderr",
     "output_type": "stream",
     "text": [
      "/home/marcel/.local/lib/python3.6/site-packages/sklearn/metrics/classification.py:1437: UndefinedMetricWarning: F-score is ill-defined and being set to 0.0 in labels with no predicted samples.\n",
      "  'precision', 'predicted', average, warn_for)\n"
     ]
    },
    {
     "data": {
      "image/png": "[encoded data removed]",
      "text/plain": [
       "<Figure size 432x288 with 2 Axes>"
      ]
     },
     "metadata": {
      "needs_background": "light"
     },
     "output_type": "display_data"
    }
   ],
   "source": [
    "rf = RandomForestClassifier(n_estimators=50)\n",
    "rf.fit(train_x, train_y)\n",
    "print(\"trees: 50\\tscore: \", rf.score(train_x, train_y))\n",
    "print(\"...feature importance\", rf.feature_importances_)\n",
    "\n",
    "pred_y = rf.predict(test_x)\n",
    "print(\"weighted f1_score: \", f1_score(test_y, pred_y, average=\"weighted\"))\n",
    "cm = confusion_matrix(test_y, pred_y)\n",
    "sn.heatmap(cm, fmt=\"d\", linewidth=0.5, annot=True, square=True, xticklabels=[\"h\", \"s\", \"a\", \"f\"], yticklabels=[\"h\", \"s\", \"a\", \"f\"])\n",
    "plt.xlabel(\"predicted\")\n",
    "plt.ylabel(\"target\")\n",
    "plt.show()"
   ]
  },
  {
   "cell_type": "code",
   "execution_count": null,
   "metadata": {},
   "outputs": [],
   "source": []
  }
 ],
 "metadata": {
  "kernelspec": {
   "display_name": "Python 3",
   "language": "python",
   "name": "python3"
  },
  "language_info": {
   "codemirror_mode": {
    "name": "ipython",
    "version": 3
   },
   "file_extension": ".py",
   "mimetype": "text/x-python",
   "name": "python",
   "nbconvert_exporter": "python",
   "pygments_lexer": "ipython3",
   "version": "3.6.8"
  }
 },
 "nbformat": 4,
 "nbformat_minor": 2
}
