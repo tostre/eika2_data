{
 "cells": [
  {
   "cell_type": "code",
   "execution_count": 3,
   "metadata": {},
   "outputs": [],
   "source": [
    "import torch.nn as nn\n",
    "from torch.nn import functional as F\n",
    "from sklearn.model_selection import train_test_split\n",
    "import pandas as pd\n",
    "import numpy as np \n",
    "import torch.optim as optim\n",
    "import torch \n",
    "from torch.autograd import Variable\n",
    "from torch.utils.data import TensorDataset, DataLoader\n",
    "import gc\n",
    "import torch.utils.data as D\n",
    "import matplotlib\n",
    "matplotlib.use('Agg')\n",
    "import matplotlib.pyplot as plt"
   ]
  },
  {
   "cell_type": "code",
   "execution_count": 4,
   "metadata": {},
   "outputs": [],
   "source": [
    "class Lstm(nn.Module):\n",
    "    def __init__(self, act_function, vocab_size, output_dim, embedding_dim, hidden_dim, n_layers, cuda, batch_size, drop_prob=0.5):\n",
    "        super(Lstm, self).__init__()\n",
    "        self.device = torch.device(\"cuda\" if cuda else \"cpu\")\n",
    "        self.act_function = act_function\n",
    "        self.cuda = cuda\n",
    "        self.output_dim = output_dim\n",
    "        self.n_layers = n_layers\n",
    "        self.hidden_dim = hidden_dim\n",
    "        self.batch_size = batch_size\n",
    "        self.embedding_dim = embedding_dim\n",
    "        # initiate layers\n",
    "        self.embedding = nn.Embedding(vocab_size, embedding_dim)\n",
    "        self.lstm = nn.LSTM(embedding_dim, hidden_dim, n_layers)#, batch_first=True\n",
    "        self.lin1 = nn.Linear(hidden_dim, hidden_dim) \n",
    "        self.lin2 = nn.Linear(hidden_dim, output_dim)\n",
    "\n",
    "    def init_hidden(self, batch_size):\n",
    "        #if self.cuda:\n",
    "        #    return (torch.randn(self.n_layers, batch_size, self.hidden_dim).cuda(), torch.randn(self.n_layers, batch_size, self.hidden_dim).cuda())\n",
    "        #else:\n",
    "        #    return (torch.randn(self.n_layers, batch_size, self.hidden_dim), torch.randn(self.n_layers, batch_size, self.hidden_dim))\n",
    "        return (torch.randn(self.n_layers, self.embedding_dim, self.hidden_dim), torch.randn(self.n_layers, self.embedding_dim, self.hidden_dim))\n",
    "        \n",
    "    def forward(self, x, hidden):\n",
    "        x = x.long() \n",
    "        x = self.embedding(x) \n",
    "        x, hidden = self.lstm(x, hidden)\n",
    "        x = self.act_function(self.lin1(x[:,-1,:]))\n",
    "        x = self.act_function(self.lin2(x))\n",
    "        return x, hidden"
   ]
  },
  {
   "cell_type": "code",
   "execution_count": 5,
   "metadata": {},
   "outputs": [],
   "source": [
    "class MyDataset(D.Dataset):\n",
    "    def __init__(self, x_tensor, y_tensor):\n",
    "        self.x = torch.from_numpy(x_tensor)\n",
    "        self.y = torch.from_numpy(y_tensor)\n",
    "        \n",
    "    def __getitem__(self, index):\n",
    "        return (self.x[index], self.y[index])\n",
    "\n",
    "    def __len__(self):\n",
    "        return len(self.x)"
   ]
  },
  {
   "cell_type": "code",
   "execution_count": 6,
   "metadata": {},
   "outputs": [],
   "source": [
    "def log(summary, file):\n",
    "    log = open(file, \"a\")\n",
    "    log.write(summary)\n",
    "    log.close()\n",
    "    print(summary)"
   ]
  },
  {
   "cell_type": "code",
   "execution_count": 7,
   "metadata": {},
   "outputs": [],
   "source": [
    "def make_data(datasets, batch_size, debug): \n",
    "    print(\"loading datasets\")\n",
    "    datasets_list = []\n",
    "    pos_datasets = []\n",
    "    target = []\n",
    "\n",
    "    # load all tweet datasets and merge them into one\n",
    "    for f in datasets:\n",
    "        datasets_list.append(pd.read_csv(\"../\" + f + \"_clean.csv\"))\n",
    "        pos_datasets.append(pd.read_csv(\"../\" + f + \"_pos.csv\"))\n",
    "    dataset = pd.concat(datasets_list, axis=0, ignore_index=True, sort=False)\n",
    "    target = dataset[\"affect\"]\n",
    "    pos_dataset = pd.concat(pos_datasets, axis=0, ignore_index=True, sort=False)\n",
    "\n",
    "    # split data into test and training data and return\n",
    "    train_x, test_x, train_y, test_y = train_test_split(pos_dataset, target, test_size=0.2)\n",
    "    train_data = MyDataset(train_x.to_numpy(), train_y.to_numpy())\n",
    "    test_data = MyDataset(test_x.to_numpy(), test_y.to_numpy())\n",
    "    train_loader = DataLoader(dataset=train_data, batch_size=batch_size)\n",
    "    test_loader = DataLoader(dataset=test_data, batch_size=1)\n",
    "    \n",
    "    if debug: \n",
    "        pos_dataset = pos_dataset.iloc[:10]\n",
    "        target = target[:10]\n",
    "        train_x, test_x, train_y, test_y = train_test_split(pos_dataset, target, test_size=0.8)\n",
    "        train_data = MyDataset(train_x.to_numpy(), train_y.to_numpy())\n",
    "        train_loader = DataLoader(dataset=train_data, batch_size=batch_size)\n",
    "        test_loader = DataLoader(dataset=train_data, batch_size=1)\n",
    "        \n",
    "    return train_loader, test_loader "
   ]
  },
  {
   "cell_type": "code",
   "execution_count": 35,
   "metadata": {},
   "outputs": [],
   "source": [
    "def train(train_laoder, net, epochs, criterion, print_every, save_name, cuda, lr, batch_size, clip):\n",
    "    open(\"../logs/\" + save_name + \"_train\", \"w\").close()\n",
    "    #optimizer = optim.SGD(net.parameters(), lr=lr, momentum=0.5)\n",
    "    optimizer = torch.optim.Adam(net.parameters(), lr=lr)\n",
    "    error_curve = []\n",
    "    net.train()\n",
    "    hidden = net.init_hidden(batch_size)\n",
    "    for epoch in range(epochs): \n",
    "        for index, (inputs, targets) in enumerate(train_loader): \n",
    "            hidden = tuple([item.data for item in hidden])\n",
    "            net.zero_grad()\n",
    "            output, hidden = net(inputs, hidden)\n",
    "            if(cuda):\n",
    "                ouput = output.to(\"cuda\")\n",
    "                targets = targets.to(\"cuda\")\n",
    "            loss = criterion(output.float(), targets)\n",
    "            loss.backward(retain_graph=True)\n",
    "            nn.utils.clip_grad_norm_(net.parameters(), clip)\n",
    "            optimizer.step()\n",
    "            gc.collect()\n",
    "        if (epoch % print_every == 0):\n",
    "            log(\"epoch {}/{} \\n... loss: {}\\n\".format((epoch), epochs, loss.item()), \n",
    "                \"../logs/\" + save_name + \"_train\")\n",
    "            torch.save(net.state_dict(), \"nets/\" + save_name + str(epoch) + \".pt\")  \n",
    "            error_curve.append([epoch, loss.item()])\n",
    "    log(\"\\n\" + str(error_curve), \"../logs/\" + save_name + \"_train\")\n",
    "    plt.clf()\n",
    "    plt.plot([item[0] for item in error_curve], [item[1] for item in error_curve])\n",
    "    plt.ylabel('loss')\n",
    "    plt.xlabel('epochs')\n",
    "    plt.savefig(\"../img/\" + save_name+\"_train_error.png\")\n",
    "\n",
    "    "
   ]
  },
  {
   "cell_type": "code",
   "execution_count": 32,
   "metadata": {},
   "outputs": [
    {
     "name": "stdout",
     "output_type": "stream",
     "text": [
      "creating variables\n"
     ]
    }
   ],
   "source": [
    "# create variables \n",
    "print(\"creating variables\")\n",
    "tweet_dataset = [\"crowdflower\"]\n",
    "act_function = torch.sigmoid\n",
    "criterion = nn.CrossEntropyLoss()\n",
    "cuda = torch.cuda.is_available()\n",
    "batch_size = 25\n",
    "vocab_size = 19\n",
    "embedding_dim_emotion = 179\n",
    "embedding_dim_tweet = 85\n",
    "num_layers = 5\n",
    "hidden_dim = 256\n",
    "output_dim = 4\n",
    "epochs = 101\n",
    "print_every = 100\n",
    "lr = 0.1\n",
    "clip = 5"
   ]
  },
  {
   "cell_type": "code",
   "execution_count": 36,
   "metadata": {},
   "outputs": [
    {
     "name": "stdout",
     "output_type": "stream",
     "text": [
      "loading datasets\n",
      "epoch 0/101 \n",
      "... loss: 1.2593982219696045\n",
      "\n",
      "epoch 100/101 \n",
      "... loss: 0.7436683177947998\n",
      "\n",
      "\n",
      "[[0, 1.2593982219696045], [100, 0.7436683177947998]]\n"
     ]
    }
   ],
   "source": [
    "# tweet dataset debug training\n",
    "net = Lstm(act_function, vocab_size, output_dim, embedding_dim_tweet, hidden_dim, num_layers, cuda, batch_size)\n",
    "train_loader, test_loader = make_data(tweet_dataset, batch_size, debug=True)\n",
    "train(train_loader, net, epochs, criterion, print_every, \"rnn_debug\", cuda, lr, batch_size, clip)"
   ]
  },
  {
   "cell_type": "code",
   "execution_count": null,
   "metadata": {},
   "outputs": [],
   "source": []
  },
  {
   "cell_type": "code",
   "execution_count": null,
   "metadata": {},
   "outputs": [],
   "source": []
  },
  {
   "cell_type": "code",
   "execution_count": null,
   "metadata": {},
   "outputs": [],
   "source": []
  },
  {
   "cell_type": "code",
   "execution_count": null,
   "metadata": {},
   "outputs": [],
   "source": []
  }
 ],
 "metadata": {
  "kernelspec": {
   "display_name": "Python 3",
   "language": "python",
   "name": "python3"
  },
  "language_info": {
   "codemirror_mode": {
    "name": "ipython",
    "version": 3
   },
   "file_extension": ".py",
   "mimetype": "text/x-python",
   "name": "python",
   "nbconvert_exporter": "python",
   "pygments_lexer": "ipython3",
   "version": "3.6.8"
  }
 },
 "nbformat": 4,
 "nbformat_minor": 2
}
