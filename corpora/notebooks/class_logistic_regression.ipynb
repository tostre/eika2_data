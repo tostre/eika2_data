{
 "cells": [
  {
   "cell_type": "code",
   "execution_count": 2,
   "metadata": {},
   "outputs": [],
   "source": [
    "import matplotlib\n",
    "import numpy as np\n",
    "import pandas as pd\n",
    "import matplotlib.pyplot as plt\n",
    "from sklearn.linear_model import LogisticRegression\n",
    "from sklearn.model_selection import train_test_split\n",
    "from sklearn.metrics import confusion_matrix\n",
    "import seaborn as sn\n",
    "from sklearn.metrics import f1_score"
   ]
  },
  {
   "cell_type": "code",
   "execution_count": 3,
   "metadata": {},
   "outputs": [],
   "source": [
    "def apply_mask(inputs, mask_list, columns):\n",
    "    for column in columns: \n",
    "        for mask in mask_list: \n",
    "            inputs[column] = np.where(inputs[column].between(mask[0], mask[1]), mask[2], inputs[column])\n",
    "    return inputs\n",
    "\n",
    "def make_data(dataset, features, wc_mask, rel_mask, normalize):\n",
    "    datasets = []\n",
    "    for file in dataset:\n",
    "        datasets.append(pd.read_csv(\"../\" + file))\n",
    "    dataset = pd.concat(datasets, axis=0, ignore_index=True)\n",
    "    \n",
    "    if normalize: \n",
    "            l = min(len(dataset.loc[dataset[\"affect\"] == 0]), len(dataset.loc[dataset[\"affect\"] == 1]), len(dataset.loc[dataset[\"affect\"] == 2]), len(dataset.loc[dataset[\"affect\"] == 3]))\n",
    "            dataset = pd.concat([dataset.loc[dataset[\"affect\"] == 0][:l], dataset.loc[dataset[\"affect\"] == 1][:l], dataset.loc[dataset[\"affect\"] == 2][:l], dataset.loc[dataset[\"affect\"] == 3][:l]], axis=0, ignore_index=True)\n",
    "            \n",
    "    targets = dataset[\"affect\"]\n",
    "    inputs = dataset.drop([\"text\", \"affect\"], axis=\"columns\")\n",
    "    tmp = dataset.drop([\"text\", \"affect\", \"word_count\"], axis=\"columns\")\n",
    "    \n",
    "    inputs = apply_mask(inputs, wc_mask, tmp.columns)\n",
    "    inputs = apply_mask(inputs, wc_mask, [\"word_count\"])\n",
    "    inputs = inputs.astype(int)\n",
    "    train_x, test_x, train_y, test_y = train_test_split(inputs, targets, test_size=0.2)\n",
    "    return train_x, test_x, train_y, test_y    "
   ]
  },
  {
   "cell_type": "code",
   "execution_count": 4,
   "metadata": {},
   "outputs": [],
   "source": [
    "emotion_dataset = [\"emotion_classification_1_clean.csv\", \"emotion_classification_2_clean.csv\", \"emotion_classification_3_clean.csv\", \"emotion_classification_4_clean.csv\", \"emotion_classification_5_clean.csv\", \"emotion_classification_6_clean.csv\", \"emotion_classification_7_clean.csv\", \"emotion_classification_8_clean.csv\"]\n",
    "tweet_dataset = [\"crowdflower_clean.csv\", \"emoint_clean.csv\", \"tec_clean.csv\"]\n",
    "full_features = [\"word_count\", \"upper_word_count\", \"ent_word_count\", \"h_count\", \"s_count\", \"a_count\", \"f_count\", \"cons_punct_count\"]\n",
    "nolex_features = [\"word_count\", \"upper_word_count\", \"ent_word_count\", \"cons_punct_count\"]\n",
    "lex_features = [\"h_count\", \"s_count\", \"a_count\", \"f_count\"]\n",
    "wc_mask = [[0,4,0],[5,9,1],[10,14,2],[15,24,3],[25,34,4],[35,49,5],[50,99,6]]\n",
    "rel_mask = [[0,0.14,0],[0.15,0.29,1],[0.3,0.44,2],[0.45,0.59,3],[0.6,0.74,4],[0.75,0.89,5],[0.9,1,6]]\n",
    "\n",
    "train_x, test_x, train_y, test_y = make_data(tweet_dataset, lex_features, wc_mask, rel_mask, True)"
   ]
  },
  {
   "cell_type": "code",
   "execution_count": 8,
   "metadata": {
    "scrolled": true
   },
   "outputs": [
    {
     "name": "stdout",
     "output_type": "stream",
     "text": [
      "0.2968683876428269\n",
      "weighted f1_score:  0.2024971452356847\n",
      "[[-0.07905031  0.          0.          0.          0.          0.\n",
      "   0.          0.23175235]\n",
      " [-0.18299678  0.          0.          0.          0.          0.\n",
      "   0.          0.14442918]\n",
      " [ 0.12161598  0.          0.          0.          0.          0.\n",
      "   0.         -0.06504906]\n",
      " [ 0.14043111  0.          0.          0.          0.          0.\n",
      "   0.         -0.31113247]]\n"
     ]
    },
    {
     "data": {
      "image/png": "[encoded data removed]",
      "text/plain": [
       "<Figure size 432x288 with 2 Axes>"
      ]
     },
     "metadata": {
      "needs_background": "light"
     },
     "output_type": "display_data"
    },
    {
     "name": "stdout",
     "output_type": "stream",
     "text": [
      "1182 1182\n",
      "[[0.23918942 0.22728269 0.26339442 0.27013347]\n",
      " [0.2868858  0.37236047 0.17303298 0.16772075]\n",
      " [0.23918942 0.22728269 0.26339442 0.27013347]\n",
      " ...\n",
      " [0.23918942 0.22728269 0.26339442 0.27013347]\n",
      " [0.23918942 0.22728269 0.26339442 0.27013347]\n",
      " [0.23918942 0.22728269 0.26339442 0.27013347]]\n"
     ]
    }
   ],
   "source": [
    "# https://scikit-learn.org/stable/modules/generated/sklearn.linear_model.LogisticRegression.html\n",
    "model = LogisticRegression(multi_class=\"multinomial\", solver=\"newton-cg\")\n",
    "model.fit(train_x, train_y)\n",
    "# https://www.youtube.com/watch?v=J5bXOOmkopc\n",
    "# https://seaborn.pydata.org/generated/seaborn.heatmap.html#seaborn.heatmap\n",
    "pred_y = model.predict(test_x)\n",
    "print(model.score(train_x, train_y))\n",
    "print(\"weighted f1_score: \", f1_score(test_y, pred_y, average=\"weighted\"))\n",
    "print(model.coef_)\n",
    "cm = confusion_matrix(test_y, pred_y)\n",
    "sn.heatmap(cm, fmt=\"d\", linewidth=0.5, annot=True, square=True, xticklabels=[\"h\", \"s\", \"a\", \"f\"], yticklabels=[\"h\", \"s\", \"a\", \"f\"])\n",
    "plt.xlabel(\"predicted\")\n",
    "plt.ylabel(\"target\")\n",
    "plt.show()\n",
    "# wenn man das nachher in das netz integriert, dann nimm pred_prob statt predict!!\n",
    "pred_prob = model.predict_proba(test_x)\n",
    "print(len(test_x), len(pred_prob))\n",
    "print(pred_prob)"
   ]
  },
  {
   "cell_type": "code",
   "execution_count": null,
   "metadata": {},
   "outputs": [],
   "source": []
  },
  {
   "cell_type": "code",
   "execution_count": null,
   "metadata": {},
   "outputs": [],
   "source": []
  },
  {
   "cell_type": "code",
   "execution_count": null,
   "metadata": {},
   "outputs": [],
   "source": []
  },
  {
   "cell_type": "code",
   "execution_count": null,
   "metadata": {},
   "outputs": [],
   "source": []
  },
  {
   "cell_type": "code",
   "execution_count": null,
   "metadata": {},
   "outputs": [],
   "source": []
  },
  {
   "cell_type": "code",
   "execution_count": null,
   "metadata": {},
   "outputs": [],
   "source": []
  },
  {
   "cell_type": "code",
   "execution_count": 28,
   "metadata": {},
   "outputs": [
    {
     "data": {
      "image/png": "[encoded data removed]",
      "text/plain": [
       "<Figure size 432x288 with 1 Axes>"
      ]
     },
     "metadata": {
      "needs_background": "light"
     },
     "output_type": "display_data"
    }
   ],
   "source": [
    "#plt.scatter(dataset[\"word_count\"].tolist(), dataset[\"affect\"].tolist())\n",
    "\n",
    "\n",
    "plt.clf()\n",
    "plt.ylabel('affect')\n",
    "plt.xlabel(\"h_count\")\n",
    "a = plt.scatter(dataset[\"h_count\"].tolist(), dataset[\"affect\"].tolist())"
   ]
  },
  {
   "cell_type": "code",
   "execution_count": null,
   "metadata": {},
   "outputs": [],
   "source": []
  }
 ],
 "metadata": {
  "kernelspec": {
   "display_name": "Python 3",
   "language": "python",
   "name": "python3"
  },
  "language_info": {
   "codemirror_mode": {
    "name": "ipython",
    "version": 3
   },
   "file_extension": ".py",
   "mimetype": "text/x-python",
   "name": "python",
   "nbconvert_exporter": "python",
   "pygments_lexer": "ipython3",
   "version": "3.6.8"
  }
 },
 "nbformat": 4,
 "nbformat_minor": 2
}
